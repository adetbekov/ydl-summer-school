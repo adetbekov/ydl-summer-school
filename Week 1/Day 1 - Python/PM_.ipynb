{
 "cells": [
  {
   "cell_type": "code",
   "execution_count": 2,
   "metadata": {},
   "outputs": [],
   "source": [
    "a = [\n",
    "    [3,2,4,6,5,3,2,2,4],\n",
    "    [5,4,3,2,3,4,2,2,1],\n",
    "    [2,1,1,6,5,3,1,1,4],\n",
    "    [6,7,8,9,8,7,6,5,4],\n",
    "    [3,2,4,6,5,3,2,2,4],\n",
    "    [3,2,4,6,5,3,2,2,4],    \n",
    "]"
   ]
  },
  {
   "cell_type": "code",
   "execution_count": 11,
   "metadata": {},
   "outputs": [],
   "source": [
    "import numpy as np"
   ]
  },
  {
   "cell_type": "code",
   "execution_count": 11,
   "metadata": {},
   "outputs": [
    {
     "name": "stdout",
     "output_type": "stream",
     "text": [
      "3 2 4 6 5 3 2 2 4 \n",
      "5 4 3 2 3 4 2 2 1 \n",
      "2 1 1 6 5 3 1 1 4 \n",
      "6 9 8 9 8 9 6 5 4 \n",
      "3 2 4 6 5 3 2 2 4 \n",
      "3 2 4 6 5 3 2 2 4 \n"
     ]
    }
   ],
   "source": [
    "for i in range(len(a)):\n",
    "    for j in range(len(a[i])):\n",
    "        if a[i][j] == 7:\n",
    "            a[i][j] = 9\n",
    "        print(a[i][j],end=\" \")\n",
    "    print()"
   ]
  },
  {
   "cell_type": "code",
   "execution_count": 9,
   "metadata": {},
   "outputs": [],
   "source": [
    "m = [\n",
    "    [  0,  0,  0, -1,  0,  0, -1,  0,  0,  0,  0],\n",
    "    [  1,  0,  0,  0,  0,  0, -1,  0,  0,  0,  0],\n",
    "    [  0,  0,  0, -1,  0,  0, -1,  0,  0,  0,  0],\n",
    "    [  0,  0,  0, -1,  0,  0, -1,  0,  0,  0,  0],\n",
    "    [ -1, -1, -1,  0,  0,  0, -1,  0,  0,  0,  0],\n",
    "    [  0,  0,  0,  0,  0,  0, -1,  0,  0,  0,  0],\n",
    "    [  0,  0,  0,  0,  0,  0, -1,  0,  0,  0,  0],\n",
    "    [  0,  0,  0,  0,  0,  0, -1,  0,  0,  0,  0],\n",
    "    [  0,  0,  0,  0,  0,  0, -1,  0,  0,  0,  0],\n",
    "    [  0,  0,  0,  0,  0,  0,  0,  0,  0,  0,  0],\n",
    "]\n",
    "\n",
    "changes = True\n",
    "step = 1\n",
    "while changes:\n",
    "    changes = False\n",
    "    for i in range(len(m)):\n",
    "        for j in range(len(m[i])):\n",
    "            if m[i][j] == step:\n",
    "                if j > 0 and m[i][j-1] == 0:\n",
    "                    m[i][j-1] = step + 1\n",
    "                    changes = True\n",
    "                if j < len(m[i]) - 1 and m[i][j+1] == 0:\n",
    "                    m[i][j+1] = step + 1\n",
    "                    changes = True\n",
    "                if i > 0 and m[i-1][j] == 0:\n",
    "                    m[i-1][j] = step + 1\n",
    "                    changes = True\n",
    "                if i < len(m) - 1 and m[i+1][j] == 0:\n",
    "                    m[i+1][j] = step + 1\n",
    "                    changes = True                    \n",
    "                    \n",
    "    step += 1\n",
    "        "
   ]
  },
  {
   "cell_type": "code",
   "execution_count": 12,
   "metadata": {},
   "outputs": [
    {
     "data": {
      "text/plain": [
       "array([[ 2,  3,  4, -1,  6,  7, -1, 25, 26, 27, 28],\n",
       "       [ 1,  2,  3,  4,  5,  6, -1, 24, 25, 26, 27],\n",
       "       [ 2,  3,  4, -1,  6,  7, -1, 23, 24, 25, 26],\n",
       "       [ 3,  4,  5, -1,  7,  8, -1, 22, 23, 24, 25],\n",
       "       [-1, -1, -1,  9,  8,  9, -1, 21, 22, 23, 24],\n",
       "       [13, 12, 11, 10,  9, 10, -1, 20, 21, 22, 23],\n",
       "       [14, 13, 12, 11, 10, 11, -1, 19, 20, 21, 22],\n",
       "       [15, 14, 13, 12, 11, 12, -1, 18, 19, 20, 21],\n",
       "       [16, 15, 14, 13, 12, 13, -1, 17, 18, 19, 20],\n",
       "       [17, 16, 15, 14, 13, 14, 15, 16, 17, 18, 19]])"
      ]
     },
     "execution_count": 12,
     "metadata": {},
     "output_type": "execute_result"
    }
   ],
   "source": [
    "np.array(m)"
   ]
  },
  {
   "cell_type": "code",
   "execution_count": null,
   "metadata": {},
   "outputs": [],
   "source": []
  }
 ],
 "metadata": {
  "hide_input": false,
  "kernelspec": {
   "display_name": "Python 3",
   "language": "python",
   "name": "python3"
  },
  "language_info": {
   "codemirror_mode": {
    "name": "ipython",
    "version": 3
   },
   "file_extension": ".py",
   "mimetype": "text/x-python",
   "name": "python",
   "nbconvert_exporter": "python",
   "pygments_lexer": "ipython3",
   "version": "3.6.5"
  },
  "toc": {
   "base_numbering": 1,
   "nav_menu": {},
   "number_sections": true,
   "sideBar": true,
   "skip_h1_title": false,
   "title_cell": "Table of Contents",
   "title_sidebar": "Contents",
   "toc_cell": false,
   "toc_position": {},
   "toc_section_display": true,
   "toc_window_display": false
  }
 },
 "nbformat": 4,
 "nbformat_minor": 2
}
