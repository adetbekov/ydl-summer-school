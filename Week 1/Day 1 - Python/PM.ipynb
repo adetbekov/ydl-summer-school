{
 "cells": [
  {
   "cell_type": "code",
   "execution_count": 1,
   "metadata": {
    "collapsed": true
   },
   "outputs": [],
   "source": [
    "import numpy as np"
   ]
  },
  {
   "cell_type": "code",
   "execution_count": 29,
   "metadata": {},
   "outputs": [],
   "source": [
    "a = np.arange(54).reshape(6,9)"
   ]
  },
  {
   "cell_type": "code",
   "execution_count": 30,
   "metadata": {},
   "outputs": [
    {
     "data": {
      "text/plain": [
       "array([[ 0,  1,  2,  3,  4,  5,  6,  7,  8],\n",
       "       [ 9, 10, 11, 12, 13, 14, 15, 16, 17],\n",
       "       [18, 19, 20, 21, 22, 23, 24, 25, 26],\n",
       "       [27, 28, 29, 30, 31, 32, 33, 34, 35],\n",
       "       [36, 37, 38, 39, 40, 41, 42, 43, 44],\n",
       "       [45, 46, 47, 48, 49, 50, 51, 52, 53]])"
      ]
     },
     "execution_count": 30,
     "metadata": {},
     "output_type": "execute_result"
    }
   ],
   "source": [
    "a"
   ]
  },
  {
   "cell_type": "code",
   "execution_count": 39,
   "metadata": {},
   "outputs": [],
   "source": [
    "b = [[0,1,2,3,3],\n",
    "     [0,0,1,1,3],\n",
    "     [3,2,2,2,1]]\n",
    "\n",
    "for i in range(len(b)):\n",
    "    for j in range(1, len(b[i])):\n",
    "        if b[i][j] == b[i][j-1]:\n",
    "            b[i][j] = b[i][j-1] = 0"
   ]
  },
  {
   "cell_type": "code",
   "execution_count": 40,
   "metadata": {},
   "outputs": [
    {
     "data": {
      "text/plain": [
       "[[0, 1, 2, 0, 0], [0, 0, 0, 0, 3], [3, 0, 0, 2, 1]]"
      ]
     },
     "execution_count": 40,
     "metadata": {},
     "output_type": "execute_result"
    }
   ],
   "source": [
    "b"
   ]
  },
  {
   "cell_type": "code",
   "execution_count": 42,
   "metadata": {
    "collapsed": true
   },
   "outputs": [],
   "source": [
    "c = [[0,9,2,9,3],\n",
    "     [0,0,1,1,3],\n",
    "     [3,2,2,0,1]]"
   ]
  },
  {
   "cell_type": "code",
   "execution_count": 44,
   "metadata": {},
   "outputs": [
    {
     "name": "stdout",
     "output_type": "stream",
     "text": [
      "changed\n",
      "changed\n"
     ]
    }
   ],
   "source": [
    "for i in range(len(c)):\n",
    "    for j in range(1, len(c[i])):\n",
    "        if c[i][j] == 0:\n",
    "            if any([c[k][j] == 9] for k in range(len(c))):\n",
    "                c[i][j]=1\n",
    "                print(\"changed\")"
   ]
  },
  {
   "cell_type": "code",
   "execution_count": 45,
   "metadata": {},
   "outputs": [
    {
     "data": {
      "text/plain": [
       "[[0, 9, 2, 9, 3], [0, 1, 1, 1, 3], [3, 2, 2, 1, 1]]"
      ]
     },
     "execution_count": 45,
     "metadata": {},
     "output_type": "execute_result"
    }
   ],
   "source": [
    "c"
   ]
  },
  {
   "cell_type": "code",
   "execution_count": 200,
   "metadata": {},
   "outputs": [],
   "source": [
    "z = np.zeros((1024,1024))"
   ]
  },
  {
   "cell_type": "code",
   "execution_count": 201,
   "metadata": {},
   "outputs": [],
   "source": [
    "z[2][6] = z[19][18] = z[6][3]= 1"
   ]
  },
  {
   "cell_type": "code",
   "execution_count": null,
   "metadata": {},
   "outputs": [],
   "source": [
    "def has_left_or_top_heighbour(i, m):\n",
    "    return 0 < i <= m\n",
    "\n",
    "def has_right_or_bottom_heighbour(i, m):\n",
    "    return 0 <= i < m\n",
    "        \n",
    "counter = 1    \n",
    "while any([any(h==0 for h in i) for i in z]):\n",
    "    for i in range(len(z)):\n",
    "        for j in range(len(z[i])):\n",
    "            if z[i][j] != 0 and z[i][j] <= counter:\n",
    "                increment = z[i][j] + 1\n",
    "                if has_left_or_top_heighbour(j, len(z[i])-1):\n",
    "                    if j > 0:\n",
    "                        if z[i][j-1] == 0:\n",
    "                            z[i][j-1] = increment\n",
    "                if has_left_or_top_heighbour(i, len(z)-1):\n",
    "                    if i > 0:\n",
    "                        if z[i-1][j] == 0:\n",
    "                            z[i-1][j] = increment\n",
    "                if has_right_or_bottom_heighbour(j, len(z[i])-1):\n",
    "                    if j < len(z[i])-1:\n",
    "                        if z[i][j+1] == 0:\n",
    "                            z[i][j+1] = increment\n",
    "                if has_right_or_bottom_heighbour(i, len(z)-1):\n",
    "                    if i < len(z[i])-1:\n",
    "                        if z[i+1][j] == 0:\n",
    "                            z[i+1][j] = increment\n",
    "    counter+=1"
   ]
  },
  {
   "cell_type": "code",
   "execution_count": null,
   "metadata": {},
   "outputs": [],
   "source": [
    "z"
   ]
  },
  {
   "cell_type": "code",
   "execution_count": null,
   "metadata": {},
   "outputs": [],
   "source": [
    "from matplotlib import pyplot as plt\n",
    "\n",
    "plt.imshow(z.max()-z, cmap='gray', vmin = z.min(), vmax = z.max())\n",
    "plt.show()"
   ]
  },
  {
   "cell_type": "code",
   "execution_count": null,
   "metadata": {},
   "outputs": [],
   "source": []
  },
  {
   "cell_type": "code",
   "execution_count": null,
   "metadata": {
    "collapsed": true
   },
   "outputs": [],
   "source": []
  },
  {
   "cell_type": "code",
   "execution_count": null,
   "metadata": {
    "collapsed": true
   },
   "outputs": [],
   "source": []
  }
 ],
 "metadata": {
  "kernelspec": {
   "display_name": "Python 3",
   "language": "python",
   "name": "python3"
  },
  "language_info": {
   "codemirror_mode": {
    "name": "ipython",
    "version": 3
   },
   "file_extension": ".py",
   "mimetype": "text/x-python",
   "name": "python",
   "nbconvert_exporter": "python",
   "pygments_lexer": "ipython3",
   "version": "3.6.1"
  }
 },
 "nbformat": 4,
 "nbformat_minor": 2
}
