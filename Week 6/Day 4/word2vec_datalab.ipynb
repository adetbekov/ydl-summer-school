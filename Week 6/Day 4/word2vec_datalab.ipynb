{
 "cells": [
  {
   "cell_type": "markdown",
   "metadata": {},
   "source": [
    "Датасет guide_raw.csv содержит разговоры Kaspi-гидов с клиентами. Цель Kaspi-гида - научить клиента пользоваться сервисами экосистемы Kaspi. \n",
    "\n",
    "Нам интересно, что отличает эффективные разговоры от неэффективных, и какие гиды лучше помогают клиентам разобраться с сервисами Kaspi, и как им это удается. Эффективным разговором мы считаем, если клиент совершил платеж (телефон, коммуналки и т.д.) на Kaspi.kz в течении 3х дней после разговора с гидом.\n",
    "\n",
    "Сможет ли речевая аналитика нам в этом помочь?\n"
   ]
  },
  {
   "cell_type": "markdown",
   "metadata": {},
   "source": [
    "1) Откройте файл **'input/guide_raw.csv'**. \n",
    "- Текст в поле **'txt'** был распознан из аудиозаписи разговора автоматически. Считаете ли вы, что система распознавания звука отлично справилась со своей работой?\n",
    "- Сколько в файле записей?\n",
    "- Какой рейндж дат по нашим данным?\n",
    "- Сколько гидов охватывают данные?\n",
    "- Опишите статистики по гидам (сколько минимум/максимум разговоров, сколько в среднем разговоров, медиана)"
   ]
  },
  {
   "cell_type": "code",
   "execution_count": 97,
   "metadata": {},
   "outputs": [],
   "source": [
    "import pandas as pd\n",
    "import numpy as np\n",
    "import seaborn as sns"
   ]
  },
  {
   "cell_type": "code",
   "execution_count": 2,
   "metadata": {},
   "outputs": [],
   "source": [
    "df = pd.read_csv(\"data/guide_raw.csv\", index_col=0)"
   ]
  },
  {
   "cell_type": "code",
   "execution_count": 3,
   "metadata": {},
   "outputs": [
    {
     "data": {
      "text/html": [
       "<div>\n",
       "<style scoped>\n",
       "    .dataframe tbody tr th:only-of-type {\n",
       "        vertical-align: middle;\n",
       "    }\n",
       "\n",
       "    .dataframe tbody tr th {\n",
       "        vertical-align: top;\n",
       "    }\n",
       "\n",
       "    .dataframe thead th {\n",
       "        text-align: right;\n",
       "    }\n",
       "</style>\n",
       "<table border=\"1\" class=\"dataframe\">\n",
       "  <thead>\n",
       "    <tr style=\"text-align: right;\">\n",
       "      <th></th>\n",
       "      <th>personnel_num</th>\n",
       "      <th>guide_date</th>\n",
       "      <th>guide_time</th>\n",
       "      <th>conversion</th>\n",
       "      <th>target_3_days</th>\n",
       "      <th>txt</th>\n",
       "    </tr>\n",
       "  </thead>\n",
       "  <tbody>\n",
       "    <tr>\n",
       "      <th>0</th>\n",
       "      <td>1512</td>\n",
       "      <td>18-05-2018</td>\n",
       "      <td>14:44</td>\n",
       "      <td>Нет конверсии</td>\n",
       "      <td>0</td>\n",
       "      <td>сейчас скажу своим да и ещё что-то он на сайте...</td>\n",
       "    </tr>\n",
       "    <tr>\n",
       "      <th>1</th>\n",
       "      <td>1512</td>\n",
       "      <td>21-05-2018</td>\n",
       "      <td>9:46</td>\n",
       "      <td>Конверсия платежа</td>\n",
       "      <td>1</td>\n",
       "      <td>спасибо до свидания хорошо я рада была вам пом...</td>\n",
       "    </tr>\n",
       "    <tr>\n",
       "      <th>2</th>\n",
       "      <td>1512</td>\n",
       "      <td>25-05-2018</td>\n",
       "      <td>14:25</td>\n",
       "      <td>Конверсия посещения</td>\n",
       "      <td>0</td>\n",
       "      <td>будет готово ставка финансовые есть как это от...</td>\n",
       "    </tr>\n",
       "    <tr>\n",
       "      <th>3</th>\n",
       "      <td>1820</td>\n",
       "      <td>27-05-2018</td>\n",
       "      <td>12:41</td>\n",
       "      <td>Конверсия платежа</td>\n",
       "      <td>1</td>\n",
       "      <td>сейчас все закрыто хорошо узнаю все делать оче...</td>\n",
       "    </tr>\n",
       "    <tr>\n",
       "      <th>4</th>\n",
       "      <td>1820</td>\n",
       "      <td>18-05-2018</td>\n",
       "      <td>10:12</td>\n",
       "      <td>Нет конверсии</td>\n",
       "      <td>0</td>\n",
       "      <td>окей справ после а сколько апелляционный понят...</td>\n",
       "    </tr>\n",
       "  </tbody>\n",
       "</table>\n",
       "</div>"
      ],
      "text/plain": [
       "   personnel_num  guide_date guide_time           conversion  target_3_days  \\\n",
       "0           1512  18-05-2018      14:44        Нет конверсии              0   \n",
       "1           1512  21-05-2018       9:46    Конверсия платежа              1   \n",
       "2           1512  25-05-2018      14:25  Конверсия посещения              0   \n",
       "3           1820  27-05-2018      12:41    Конверсия платежа              1   \n",
       "4           1820  18-05-2018      10:12        Нет конверсии              0   \n",
       "\n",
       "                                                 txt  \n",
       "0  сейчас скажу своим да и ещё что-то он на сайте...  \n",
       "1  спасибо до свидания хорошо я рада была вам пом...  \n",
       "2  будет готово ставка финансовые есть как это от...  \n",
       "3  сейчас все закрыто хорошо узнаю все делать оче...  \n",
       "4  окей справ после а сколько апелляционный понят...  "
      ]
     },
     "execution_count": 3,
     "metadata": {},
     "output_type": "execute_result"
    }
   ],
   "source": [
    "df.head()"
   ]
  },
  {
   "cell_type": "markdown",
   "metadata": {
    "collapsed": true
   },
   "source": [
    "2) Запустите следующий код. \n",
    "- Что Вы наблюдаете?\n",
    "- Может ли у слова быть несколько нормальных форм? \n",
    "- Проверьте, какие нормальные формы могут быть у слова 'стали'\n",
    "- Как получить нормальную форму слова? "
   ]
  },
  {
   "cell_type": "code",
   "execution_count": 4,
   "metadata": {},
   "outputs": [
    {
     "name": "stdout",
     "output_type": "stream",
     "text": [
      "[Parse(word='стали', tag=OpencorporaTag('VERB,perf,intr plur,past,indc'), normal_form='стать', score=0.984662, methods_stack=((<DictionaryAnalyzer>, 'стали', 904, 4),)), Parse(word='стали', tag=OpencorporaTag('NOUN,inan,femn sing,gent'), normal_form='сталь', score=0.003067, methods_stack=((<DictionaryAnalyzer>, 'стали', 13, 1),)), Parse(word='стали', tag=OpencorporaTag('NOUN,inan,femn sing,datv'), normal_form='сталь', score=0.003067, methods_stack=((<DictionaryAnalyzer>, 'стали', 13, 2),)), Parse(word='стали', tag=OpencorporaTag('NOUN,inan,femn sing,loct'), normal_form='сталь', score=0.003067, methods_stack=((<DictionaryAnalyzer>, 'стали', 13, 5),)), Parse(word='стали', tag=OpencorporaTag('NOUN,inan,femn plur,nomn'), normal_form='сталь', score=0.003067, methods_stack=((<DictionaryAnalyzer>, 'стали', 13, 6),)), Parse(word='стали', tag=OpencorporaTag('NOUN,inan,femn plur,accs'), normal_form='сталь', score=0.003067, methods_stack=((<DictionaryAnalyzer>, 'стали', 13, 9),))]\n",
      "\n",
      "\n",
      "стать\n"
     ]
    }
   ],
   "source": [
    "import pymorphy2\n",
    "morph = pymorphy2.MorphAnalyzer()\n",
    "print(morph.parse('Стали'))\n",
    "print(\"\\n\")\n",
    "print(morph.parse('Стали')[0].normal_form)"
   ]
  },
  {
   "cell_type": "markdown",
   "metadata": {},
   "source": [
    "3) Откройте файл **'preprocessing.py'**. \n",
    "- Какие стоп-слова используются? Логичны ли они?\n",
    "- Используется лемматизация или стемминг?\n",
    "- Запустите код в следующей ячейке. Сколько записей в аутпут файле? А сколько должно быть? Сделайте соответствующие изменения в файле, получите результат. (Для того, чтобы Jupyter увидел изменения в файле, возможно, понадобится перезапустить kernel)\n",
    "- Соедините результаты препроцессинга с исходным датафреймом (data/guide_raw.csv)"
   ]
  },
  {
   "cell_type": "code",
   "execution_count": 172,
   "metadata": {
    "deletable": false,
    "editable": false,
    "run_control": {
     "frozen": true
    }
   },
   "outputs": [
    {
     "name": "stdout",
     "output_type": "stream",
     "text": [
      "CPU times: user 2min 45s, sys: 1.42 s, total: 2min 46s\n",
      "Wall time: 3min 17s\n"
     ]
    }
   ],
   "source": [
    "%%time\n",
    "import preprocessing as p\n",
    "\n",
    "p.preprocess('data/guide_raw.csv', 'data/output.csv')\n"
   ]
  },
  {
   "cell_type": "code",
   "execution_count": 173,
   "metadata": {
    "deletable": false,
    "editable": false,
    "run_control": {
     "frozen": true
    }
   },
   "outputs": [],
   "source": [
    "df_preprocessed = pd.read_csv(\"data/output.csv\", header=None)"
   ]
  },
  {
   "cell_type": "code",
   "execution_count": 174,
   "metadata": {
    "deletable": false,
    "editable": false,
    "run_control": {
     "frozen": true
    }
   },
   "outputs": [],
   "source": [
    "preprocessed = df_preprocessed[1].apply(lambda text: text[2:-2])"
   ]
  },
  {
   "cell_type": "code",
   "execution_count": 175,
   "metadata": {
    "deletable": false,
    "editable": false,
    "run_control": {
     "frozen": true
    }
   },
   "outputs": [
    {
     "data": {
      "text/plain": [
       "0"
      ]
     },
     "execution_count": 175,
     "metadata": {},
     "output_type": "execute_result"
    }
   ],
   "source": [
    "sum(preprocessed.str.contains(\"mochbzdravstvovatb\"))"
   ]
  },
  {
   "cell_type": "markdown",
   "metadata": {},
   "source": [
    "4) Обучите word2vec (библиотека gensim):\n",
    "- в корпусе слов оставьте только слова, повторяющиеся более одного раза\n",
    "- обучите word2vec модель. На что влияют параметры size, window, min_count? Остановимся на size = 100\n",
    "- создайте датафрейм, где индексами будут слова, а колонками - значения по измерениям получившихся векторов"
   ]
  },
  {
   "cell_type": "code",
   "execution_count": 176,
   "metadata": {},
   "outputs": [],
   "source": [
    "from gensim.models import Word2Vec"
   ]
  },
  {
   "cell_type": "code",
   "execution_count": 177,
   "metadata": {},
   "outputs": [],
   "source": [
    "import collections\n",
    "def build_corpus(words):\n",
    "    count = collections.Counter(words).most_common()\n",
    "    corpus, ignore_corpus = [], []\n",
    "    for word, _ in count:\n",
    "        if _ > 1:\n",
    "            corpus.append(word)\n",
    "        else:\n",
    "            ignore_corpus.append(word)\n",
    "    return corpus, ignore_corpus"
   ]
  },
  {
   "cell_type": "code",
   "execution_count": 189,
   "metadata": {},
   "outputs": [],
   "source": [
    "corpus, ignore_corpus = build_corpus(\" \".join(preprocessed.tolist()).split())"
   ]
  },
  {
   "cell_type": "code",
   "execution_count": 190,
   "metadata": {},
   "outputs": [],
   "source": [
    "cleaned_texts = [[word for word in text.split() if word not in ignore_corpus] for text in preprocessed.tolist()]\n"
   ]
  },
  {
   "cell_type": "code",
   "execution_count": 191,
   "metadata": {},
   "outputs": [
    {
     "data": {
      "text/plain": [
       "(17511408, 21064260)"
      ]
     },
     "execution_count": 191,
     "metadata": {},
     "output_type": "execute_result"
    }
   ],
   "source": [
    "model = Word2Vec(cleaned_texts, size=100, window=5, min_count=1, workers=4)\n",
    "model.train(cleaned_texts, total_examples=len(corpus), epochs=30)"
   ]
  },
  {
   "cell_type": "code",
   "execution_count": 192,
   "metadata": {},
   "outputs": [],
   "source": [
    "model.save(\"word2vec.model\")"
   ]
  },
  {
   "cell_type": "code",
   "execution_count": 193,
   "metadata": {},
   "outputs": [],
   "source": [
    "model = Word2Vec.load(\"word2vec.model\")"
   ]
  },
  {
   "cell_type": "code",
   "execution_count": 195,
   "metadata": {},
   "outputs": [
    {
     "name": "stderr",
     "output_type": "stream",
     "text": [
      "/Users/dosya/Envs/ds/lib/python3.6/site-packages/ipykernel_launcher.py:1: DeprecationWarning: Call to deprecated `__getitem__` (Method will be removed in 4.0.0, use self.wv.__getitem__() instead).\n",
      "  \"\"\"Entry point for launching an IPython kernel.\n"
     ]
    }
   ],
   "source": [
    "list_vector = [(word, model[word]) for word in map(str, corpus)]"
   ]
  },
  {
   "cell_type": "code",
   "execution_count": 196,
   "metadata": {},
   "outputs": [],
   "source": [
    "values = list(zip(*list_vector))[0]\n",
    "vectors = np.matrix(list(zip(*list_vector))[1])"
   ]
  },
  {
   "cell_type": "code",
   "execution_count": 199,
   "metadata": {},
   "outputs": [],
   "source": [
    "vector_df = pd.DataFrame(vectors, columns=list(map(str, np.arange(0, 100))), index=values)"
   ]
  },
  {
   "cell_type": "code",
   "execution_count": 200,
   "metadata": {},
   "outputs": [
    {
     "data": {
      "text/html": [
       "<div>\n",
       "<style scoped>\n",
       "    .dataframe tbody tr th:only-of-type {\n",
       "        vertical-align: middle;\n",
       "    }\n",
       "\n",
       "    .dataframe tbody tr th {\n",
       "        vertical-align: top;\n",
       "    }\n",
       "\n",
       "    .dataframe thead th {\n",
       "        text-align: right;\n",
       "    }\n",
       "</style>\n",
       "<table border=\"1\" class=\"dataframe\">\n",
       "  <thead>\n",
       "    <tr style=\"text-align: right;\">\n",
       "      <th></th>\n",
       "      <th>0</th>\n",
       "      <th>1</th>\n",
       "      <th>2</th>\n",
       "      <th>3</th>\n",
       "      <th>4</th>\n",
       "      <th>5</th>\n",
       "      <th>6</th>\n",
       "      <th>7</th>\n",
       "      <th>8</th>\n",
       "      <th>9</th>\n",
       "      <th>...</th>\n",
       "      <th>90</th>\n",
       "      <th>91</th>\n",
       "      <th>92</th>\n",
       "      <th>93</th>\n",
       "      <th>94</th>\n",
       "      <th>95</th>\n",
       "      <th>96</th>\n",
       "      <th>97</th>\n",
       "      <th>98</th>\n",
       "      <th>99</th>\n",
       "    </tr>\n",
       "  </thead>\n",
       "  <tbody>\n",
       "    <tr>\n",
       "      <th>mochb</th>\n",
       "      <td>0.022834</td>\n",
       "      <td>-0.410565</td>\n",
       "      <td>-0.288082</td>\n",
       "      <td>0.887976</td>\n",
       "      <td>0.413645</td>\n",
       "      <td>0.692833</td>\n",
       "      <td>0.901964</td>\n",
       "      <td>1.069723</td>\n",
       "      <td>-0.342472</td>\n",
       "      <td>0.818680</td>\n",
       "      <td>...</td>\n",
       "      <td>0.422837</td>\n",
       "      <td>0.644179</td>\n",
       "      <td>0.107509</td>\n",
       "      <td>0.621993</td>\n",
       "      <td>0.189433</td>\n",
       "      <td>-1.029824</td>\n",
       "      <td>0.159382</td>\n",
       "      <td>-0.227946</td>\n",
       "      <td>0.647759</td>\n",
       "      <td>0.666026</td>\n",
       "    </tr>\n",
       "    <tr>\n",
       "      <th>karta</th>\n",
       "      <td>0.640752</td>\n",
       "      <td>-0.812185</td>\n",
       "      <td>-1.009775</td>\n",
       "      <td>-0.420308</td>\n",
       "      <td>0.527061</td>\n",
       "      <td>-0.456083</td>\n",
       "      <td>-1.172094</td>\n",
       "      <td>-1.570992</td>\n",
       "      <td>-0.489798</td>\n",
       "      <td>-0.001790</td>\n",
       "      <td>...</td>\n",
       "      <td>1.303714</td>\n",
       "      <td>-1.857771</td>\n",
       "      <td>-0.851817</td>\n",
       "      <td>-1.227424</td>\n",
       "      <td>0.013430</td>\n",
       "      <td>-1.031063</td>\n",
       "      <td>0.512186</td>\n",
       "      <td>0.462186</td>\n",
       "      <td>0.976066</td>\n",
       "      <td>-0.049211</td>\n",
       "    </tr>\n",
       "    <tr>\n",
       "      <th>telefon</th>\n",
       "      <td>-0.724853</td>\n",
       "      <td>-0.081017</td>\n",
       "      <td>1.195451</td>\n",
       "      <td>0.026281</td>\n",
       "      <td>-1.920824</td>\n",
       "      <td>1.836485</td>\n",
       "      <td>1.190427</td>\n",
       "      <td>0.338019</td>\n",
       "      <td>1.923863</td>\n",
       "      <td>1.795209</td>\n",
       "      <td>...</td>\n",
       "      <td>-0.075222</td>\n",
       "      <td>0.574347</td>\n",
       "      <td>-1.884483</td>\n",
       "      <td>-1.052101</td>\n",
       "      <td>0.166867</td>\n",
       "      <td>0.308076</td>\n",
       "      <td>0.066141</td>\n",
       "      <td>0.605871</td>\n",
       "      <td>-0.142841</td>\n",
       "      <td>-1.298102</td>\n",
       "    </tr>\n",
       "    <tr>\n",
       "      <th>nomer</th>\n",
       "      <td>-0.117357</td>\n",
       "      <td>0.472881</td>\n",
       "      <td>0.575181</td>\n",
       "      <td>-1.443722</td>\n",
       "      <td>-0.927350</td>\n",
       "      <td>1.842047</td>\n",
       "      <td>-2.119892</td>\n",
       "      <td>0.071958</td>\n",
       "      <td>0.606527</td>\n",
       "      <td>1.165539</td>\n",
       "      <td>...</td>\n",
       "      <td>-2.160181</td>\n",
       "      <td>0.637105</td>\n",
       "      <td>-2.040051</td>\n",
       "      <td>-0.213874</td>\n",
       "      <td>0.147874</td>\n",
       "      <td>-0.828449</td>\n",
       "      <td>1.998708</td>\n",
       "      <td>2.200392</td>\n",
       "      <td>-0.030605</td>\n",
       "      <td>-1.729700</td>\n",
       "    </tr>\n",
       "    <tr>\n",
       "      <th>parolb</th>\n",
       "      <td>-0.405843</td>\n",
       "      <td>0.970422</td>\n",
       "      <td>1.058649</td>\n",
       "      <td>0.507387</td>\n",
       "      <td>-0.010669</td>\n",
       "      <td>1.021823</td>\n",
       "      <td>0.719640</td>\n",
       "      <td>0.033191</td>\n",
       "      <td>0.132268</td>\n",
       "      <td>2.540282</td>\n",
       "      <td>...</td>\n",
       "      <td>-1.904765</td>\n",
       "      <td>-0.949125</td>\n",
       "      <td>-1.200662</td>\n",
       "      <td>-0.207477</td>\n",
       "      <td>-1.201797</td>\n",
       "      <td>1.042380</td>\n",
       "      <td>2.322273</td>\n",
       "      <td>2.984717</td>\n",
       "      <td>-0.204784</td>\n",
       "      <td>-0.622183</td>\n",
       "    </tr>\n",
       "  </tbody>\n",
       "</table>\n",
       "<p>5 rows × 100 columns</p>\n",
       "</div>"
      ],
      "text/plain": [
       "                0         1         2         3         4         5         6  \\\n",
       "mochb    0.022834 -0.410565 -0.288082  0.887976  0.413645  0.692833  0.901964   \n",
       "karta    0.640752 -0.812185 -1.009775 -0.420308  0.527061 -0.456083 -1.172094   \n",
       "telefon -0.724853 -0.081017  1.195451  0.026281 -1.920824  1.836485  1.190427   \n",
       "nomer   -0.117357  0.472881  0.575181 -1.443722 -0.927350  1.842047 -2.119892   \n",
       "parolb  -0.405843  0.970422  1.058649  0.507387 -0.010669  1.021823  0.719640   \n",
       "\n",
       "                7         8         9    ...           90        91        92  \\\n",
       "mochb    1.069723 -0.342472  0.818680    ...     0.422837  0.644179  0.107509   \n",
       "karta   -1.570992 -0.489798 -0.001790    ...     1.303714 -1.857771 -0.851817   \n",
       "telefon  0.338019  1.923863  1.795209    ...    -0.075222  0.574347 -1.884483   \n",
       "nomer    0.071958  0.606527  1.165539    ...    -2.160181  0.637105 -2.040051   \n",
       "parolb   0.033191  0.132268  2.540282    ...    -1.904765 -0.949125 -1.200662   \n",
       "\n",
       "               93        94        95        96        97        98        99  \n",
       "mochb    0.621993  0.189433 -1.029824  0.159382 -0.227946  0.647759  0.666026  \n",
       "karta   -1.227424  0.013430 -1.031063  0.512186  0.462186  0.976066 -0.049211  \n",
       "telefon -1.052101  0.166867  0.308076  0.066141  0.605871 -0.142841 -1.298102  \n",
       "nomer   -0.213874  0.147874 -0.828449  1.998708  2.200392 -0.030605 -1.729700  \n",
       "parolb  -0.207477 -1.201797  1.042380  2.322273  2.984717 -0.204784 -0.622183  \n",
       "\n",
       "[5 rows x 100 columns]"
      ]
     },
     "execution_count": 200,
     "metadata": {},
     "output_type": "execute_result"
    }
   ],
   "source": [
    "vector_df.head()"
   ]
  },
  {
   "cell_type": "markdown",
   "metadata": {},
   "source": [
    "5) Визуализируем то, что получилось.\n",
    "\n",
    "- Нормализуйте данные по каждой колонке, чтобы значения были в интервале [0, 1]\n",
    "- Используя dimensionality reduction (PCA/LDA..), спроецируйте 100-мерные векторы на двумерное пространство\n",
    "- Выведите результат с метками (чтобы каждой точке на графике соответствовало слово)\n"
   ]
  },
  {
   "cell_type": "code",
   "execution_count": 202,
   "metadata": {},
   "outputs": [],
   "source": [
    "from sklearn.preprocessing import StandardScaler\n",
    "scaler = StandardScaler()"
   ]
  },
  {
   "cell_type": "code",
   "execution_count": 203,
   "metadata": {},
   "outputs": [],
   "source": [
    "scaled_vector_df = vector_df.copy()"
   ]
  },
  {
   "cell_type": "code",
   "execution_count": 204,
   "metadata": {},
   "outputs": [],
   "source": [
    "scaled_vector_df[:] = scaler.fit_transform(vector_df)"
   ]
  },
  {
   "cell_type": "code",
   "execution_count": 205,
   "metadata": {},
   "outputs": [
    {
     "data": {
      "text/html": [
       "<div>\n",
       "<style scoped>\n",
       "    .dataframe tbody tr th:only-of-type {\n",
       "        vertical-align: middle;\n",
       "    }\n",
       "\n",
       "    .dataframe tbody tr th {\n",
       "        vertical-align: top;\n",
       "    }\n",
       "\n",
       "    .dataframe thead th {\n",
       "        text-align: right;\n",
       "    }\n",
       "</style>\n",
       "<table border=\"1\" class=\"dataframe\">\n",
       "  <thead>\n",
       "    <tr style=\"text-align: right;\">\n",
       "      <th></th>\n",
       "      <th>0</th>\n",
       "      <th>1</th>\n",
       "      <th>2</th>\n",
       "      <th>3</th>\n",
       "      <th>4</th>\n",
       "      <th>5</th>\n",
       "      <th>6</th>\n",
       "      <th>7</th>\n",
       "      <th>8</th>\n",
       "      <th>9</th>\n",
       "      <th>...</th>\n",
       "      <th>90</th>\n",
       "      <th>91</th>\n",
       "      <th>92</th>\n",
       "      <th>93</th>\n",
       "      <th>94</th>\n",
       "      <th>95</th>\n",
       "      <th>96</th>\n",
       "      <th>97</th>\n",
       "      <th>98</th>\n",
       "      <th>99</th>\n",
       "    </tr>\n",
       "  </thead>\n",
       "  <tbody>\n",
       "    <tr>\n",
       "      <th>mochb</th>\n",
       "      <td>-0.058448</td>\n",
       "      <td>-0.674233</td>\n",
       "      <td>-0.732616</td>\n",
       "      <td>1.901855</td>\n",
       "      <td>1.172914</td>\n",
       "      <td>1.532069</td>\n",
       "      <td>1.959302</td>\n",
       "      <td>2.162843</td>\n",
       "      <td>-0.431590</td>\n",
       "      <td>1.619982</td>\n",
       "      <td>...</td>\n",
       "      <td>0.617476</td>\n",
       "      <td>1.081254</td>\n",
       "      <td>-0.157955</td>\n",
       "      <td>1.157849</td>\n",
       "      <td>0.335916</td>\n",
       "      <td>-1.915055</td>\n",
       "      <td>0.215008</td>\n",
       "      <td>-0.590755</td>\n",
       "      <td>1.316959</td>\n",
       "      <td>1.146026</td>\n",
       "    </tr>\n",
       "    <tr>\n",
       "      <th>karta</th>\n",
       "      <td>1.023799</td>\n",
       "      <td>-1.488556</td>\n",
       "      <td>-2.002470</td>\n",
       "      <td>-0.676224</td>\n",
       "      <td>1.388782</td>\n",
       "      <td>-0.624531</td>\n",
       "      <td>-2.341578</td>\n",
       "      <td>-3.394044</td>\n",
       "      <td>-0.702053</td>\n",
       "      <td>0.130273</td>\n",
       "      <td>...</td>\n",
       "      <td>2.381917</td>\n",
       "      <td>-3.936335</td>\n",
       "      <td>-1.931306</td>\n",
       "      <td>-2.569980</td>\n",
       "      <td>-0.002014</td>\n",
       "      <td>-1.917284</td>\n",
       "      <td>0.899265</td>\n",
       "      <td>0.809641</td>\n",
       "      <td>1.941075</td>\n",
       "      <td>-0.190122</td>\n",
       "    </tr>\n",
       "    <tr>\n",
       "      <th>telefon</th>\n",
       "      <td>-1.367977</td>\n",
       "      <td>-0.006040</td>\n",
       "      <td>1.877731</td>\n",
       "      <td>0.203816</td>\n",
       "      <td>-3.270325</td>\n",
       "      <td>3.678787</td>\n",
       "      <td>2.557475</td>\n",
       "      <td>0.623110</td>\n",
       "      <td>3.728972</td>\n",
       "      <td>3.393046</td>\n",
       "      <td>...</td>\n",
       "      <td>-0.380162</td>\n",
       "      <td>0.941208</td>\n",
       "      <td>-3.840227</td>\n",
       "      <td>-2.216585</td>\n",
       "      <td>0.292589</td>\n",
       "      <td>0.492045</td>\n",
       "      <td>0.034167</td>\n",
       "      <td>1.101203</td>\n",
       "      <td>-0.185980</td>\n",
       "      <td>-2.523201</td>\n",
       "    </tr>\n",
       "    <tr>\n",
       "      <th>nomer</th>\n",
       "      <td>-0.303984</td>\n",
       "      <td>1.117045</td>\n",
       "      <td>0.786336</td>\n",
       "      <td>-2.692945</td>\n",
       "      <td>-1.379428</td>\n",
       "      <td>3.689226</td>\n",
       "      <td>-4.306984</td>\n",
       "      <td>0.063235</td>\n",
       "      <td>1.310593</td>\n",
       "      <td>2.249768</td>\n",
       "      <td>...</td>\n",
       "      <td>-4.556443</td>\n",
       "      <td>1.067066</td>\n",
       "      <td>-4.127801</td>\n",
       "      <td>-0.526989</td>\n",
       "      <td>0.256122</td>\n",
       "      <td>-1.552748</td>\n",
       "      <td>3.782351</td>\n",
       "      <td>4.336765</td>\n",
       "      <td>0.027381</td>\n",
       "      <td>-3.329478</td>\n",
       "    </tr>\n",
       "    <tr>\n",
       "      <th>parolb</th>\n",
       "      <td>-0.809250</td>\n",
       "      <td>2.125858</td>\n",
       "      <td>1.637021</td>\n",
       "      <td>1.151873</td>\n",
       "      <td>0.365309</td>\n",
       "      <td>2.149606</td>\n",
       "      <td>1.581226</td>\n",
       "      <td>-0.018343</td>\n",
       "      <td>0.439943</td>\n",
       "      <td>4.745859</td>\n",
       "      <td>...</td>\n",
       "      <td>-4.044831</td>\n",
       "      <td>-2.114071</td>\n",
       "      <td>-2.576159</td>\n",
       "      <td>-0.514095</td>\n",
       "      <td>-2.335271</td>\n",
       "      <td>1.813179</td>\n",
       "      <td>4.409901</td>\n",
       "      <td>5.928297</td>\n",
       "      <td>-0.303735</td>\n",
       "      <td>-1.260503</td>\n",
       "    </tr>\n",
       "  </tbody>\n",
       "</table>\n",
       "<p>5 rows × 100 columns</p>\n",
       "</div>"
      ],
      "text/plain": [
       "                0         1         2         3         4         5         6  \\\n",
       "mochb   -0.058448 -0.674233 -0.732616  1.901855  1.172914  1.532069  1.959302   \n",
       "karta    1.023799 -1.488556 -2.002470 -0.676224  1.388782 -0.624531 -2.341578   \n",
       "telefon -1.367977 -0.006040  1.877731  0.203816 -3.270325  3.678787  2.557475   \n",
       "nomer   -0.303984  1.117045  0.786336 -2.692945 -1.379428  3.689226 -4.306984   \n",
       "parolb  -0.809250  2.125858  1.637021  1.151873  0.365309  2.149606  1.581226   \n",
       "\n",
       "                7         8         9    ...           90        91        92  \\\n",
       "mochb    2.162843 -0.431590  1.619982    ...     0.617476  1.081254 -0.157955   \n",
       "karta   -3.394044 -0.702053  0.130273    ...     2.381917 -3.936335 -1.931306   \n",
       "telefon  0.623110  3.728972  3.393046    ...    -0.380162  0.941208 -3.840227   \n",
       "nomer    0.063235  1.310593  2.249768    ...    -4.556443  1.067066 -4.127801   \n",
       "parolb  -0.018343  0.439943  4.745859    ...    -4.044831 -2.114071 -2.576159   \n",
       "\n",
       "               93        94        95        96        97        98        99  \n",
       "mochb    1.157849  0.335916 -1.915055  0.215008 -0.590755  1.316959  1.146026  \n",
       "karta   -2.569980 -0.002014 -1.917284  0.899265  0.809641  1.941075 -0.190122  \n",
       "telefon -2.216585  0.292589  0.492045  0.034167  1.101203 -0.185980 -2.523201  \n",
       "nomer   -0.526989  0.256122 -1.552748  3.782351  4.336765  0.027381 -3.329478  \n",
       "parolb  -0.514095 -2.335271  1.813179  4.409901  5.928297 -0.303735 -1.260503  \n",
       "\n",
       "[5 rows x 100 columns]"
      ]
     },
     "execution_count": 205,
     "metadata": {},
     "output_type": "execute_result"
    }
   ],
   "source": [
    "scaled_vector_df.head()"
   ]
  },
  {
   "cell_type": "code",
   "execution_count": 206,
   "metadata": {},
   "outputs": [],
   "source": [
    "from sklearn.decomposition import PCA\n",
    "import matplotlib.pyplot as plt"
   ]
  },
  {
   "cell_type": "code",
   "execution_count": 207,
   "metadata": {},
   "outputs": [],
   "source": [
    "pca = PCA(n_components=2)\n",
    "pca_scaled_vector_df = pca.fit_transform(scaled_vector_df)"
   ]
  },
  {
   "cell_type": "code",
   "execution_count": 211,
   "metadata": {},
   "outputs": [],
   "source": [
    "y=pca_scaled_vector_df.T[1]\n",
    "z=pca_scaled_vector_df.T[0]\n",
    "n=values"
   ]
  },
  {
   "cell_type": "code",
   "execution_count": 107,
   "metadata": {
    "deletable": false,
    "editable": false,
    "run_control": {
     "frozen": true
    }
   },
   "outputs": [
    {
     "data": {
      "image/png": "[encoded data removed]",
      "text/plain": [
       "<Figure size 1080x1080 with 1 Axes>"
      ]
     },
     "metadata": {},
     "output_type": "display_data"
    }
   ],
   "source": [
    "y=pca_scaled_vector_df.T[1]\n",
    "z=pca_scaled_vector_df.T[0]\n",
    "n=values\n",
    "\n",
    "fig, ax = plt.subplots(figsize=(15,15))\n",
    "ax.scatter(z, y)\n",
    "\n",
    "for i, txt in enumerate(n):\n",
    "    ax.annotate(txt, (z[i],y[i]))"
   ]
  },
  {
   "cell_type": "markdown",
   "metadata": {},
   "source": [
    "6) Помните свойство word2vec, что слова, близкие в векторном пространстве, находятся примерно в одинаковом контексте? Быть может, мы сможем выделить основные тематики в разговорах?\n",
    "- кластеризуйте слова на 15 кластеров, используя любой алгоритм на ваш выбор (но с заданным кол-вом кластеров)\n",
    "- Выведите картинку точек на графике (используйте координаты двумерного пространства с прошлого задания), окрасив разные кластеры в разные цвета. Метки слов не нужны\n",
    "- Удовлетворяют ли вас результаты кластеризации? Почему?"
   ]
  },
  {
   "cell_type": "code",
   "execution_count": 212,
   "metadata": {},
   "outputs": [],
   "source": [
    "from sklearn.cluster import KMeans"
   ]
  },
  {
   "cell_type": "code",
   "execution_count": 272,
   "metadata": {},
   "outputs": [],
   "source": [
    "clf = KMeans(n_clusters=15)\n",
    "clustered = clf.fit(pca_scaled_vector_df).labels_"
   ]
  },
  {
   "cell_type": "code",
   "execution_count": 273,
   "metadata": {},
   "outputs": [
    {
     "data": {
      "text/plain": [
       "<matplotlib.collections.PathCollection at 0x11cac6b70>"
      ]
     },
     "execution_count": 273,
     "metadata": {},
     "output_type": "execute_result"
    },
    {
     "data": {
      "image/png": "[encoded data removed]",
      "text/plain": [
       "<Figure size 432x288 with 1 Axes>"
      ]
     },
     "metadata": {},
     "output_type": "display_data"
    }
   ],
   "source": [
    "plt.scatter(y, z, c=clustered, cmap=\"viridis\")"
   ]
  },
  {
   "cell_type": "markdown",
   "metadata": {},
   "source": [
    "7) По каждому кластеру выведите список слов и попробуйте сформировать тему разговора, которой принадлежат эти кластеры"
   ]
  },
  {
   "cell_type": "code",
   "execution_count": 270,
   "metadata": {},
   "outputs": [],
   "source": [
    "clf_full = KMeans(n_clusters=15)\n",
    "clustered_full = clf_full.fit(scaled_vector_df).labels_"
   ]
  },
  {
   "cell_type": "code",
   "execution_count": 275,
   "metadata": {},
   "outputs": [
    {
     "data": {
      "text/plain": [
       "(8869,)"
      ]
     },
     "execution_count": 275,
     "metadata": {},
     "output_type": "execute_result"
    }
   ],
   "source": [
    "clustered_full.shape"
   ]
  },
  {
   "cell_type": "code",
   "execution_count": 271,
   "metadata": {},
   "outputs": [
    {
     "data": {
      "text/plain": [
       "Index(['summa', 'khotetb', 'oplatitb', 'oplata', 'naprimer', 'schyot',\n",
       "       'vybiratb', 'dopustitb', 'vykhoditb', 'potratitb', 'koshelyok',\n",
       "       'popolnitb', 'otkuda', 'vybratb', 'zaplatitb', 'zakinutb', 'primer',\n",
       "       'dosrochno', 'priam', 'priamo', 'ostatok', 'proveriatb', 'pogasitb',\n",
       "       'zakhotetb', 'postupitb', 'dostatochno', 'sembia', 'segodniashnii',\n",
       "       'galochka', 'ukhoditb', 'vnesti', 'khvatatb', 'sobiratb', 'spisatb',\n",
       "       'ubiratb', 'zaranee', 'sekonomitb', 'spisyvatbsia', 'pisatbsia',\n",
       "       'proizvoditb', 'sposob', 'spisyvatb', 'ezhemesiachno', 'knopochka',\n",
       "       'tarif', 'ekonomitb', 'vybiratbsia', 'spisatbsia', 'kopatb',\n",
       "       'chastichno', 'pereplachivatb', 'perechislitb', 'snizhatb', 'zakrytie',\n",
       "       'kopeechka'],\n",
       "      dtype='object')"
      ]
     },
     "execution_count": 271,
     "metadata": {},
     "output_type": "execute_result"
    }
   ],
   "source": [
    "scaled_vector_df[clustered_full==8].index"
   ]
  },
  {
   "cell_type": "code",
   "execution_count": 239,
   "metadata": {},
   "outputs": [],
   "source": [
    "preprocessed_df1 = pd.read_csv(\"data/guide_df.csv\", index_col=0)"
   ]
  },
  {
   "cell_type": "code",
   "execution_count": 240,
   "metadata": {},
   "outputs": [
    {
     "data": {
      "text/html": [
       "<div>\n",
       "<style scoped>\n",
       "    .dataframe tbody tr th:only-of-type {\n",
       "        vertical-align: middle;\n",
       "    }\n",
       "\n",
       "    .dataframe tbody tr th {\n",
       "        vertical-align: top;\n",
       "    }\n",
       "\n",
       "    .dataframe thead th {\n",
       "        text-align: right;\n",
       "    }\n",
       "</style>\n",
       "<table border=\"1\" class=\"dataframe\">\n",
       "  <thead>\n",
       "    <tr style=\"text-align: right;\">\n",
       "      <th></th>\n",
       "      <th>personnel_num</th>\n",
       "      <th>guide_date</th>\n",
       "      <th>guide_time</th>\n",
       "      <th>conversion</th>\n",
       "      <th>target_3_days</th>\n",
       "      <th>txt</th>\n",
       "      <th>txt_preprocessed</th>\n",
       "    </tr>\n",
       "  </thead>\n",
       "  <tbody>\n",
       "    <tr>\n",
       "      <th>0</th>\n",
       "      <td>1512</td>\n",
       "      <td>18-05-2018</td>\n",
       "      <td>14:44</td>\n",
       "      <td>Нет конверсии</td>\n",
       "      <td>0</td>\n",
       "      <td>сейчас скажу своим да и ещё что-то он на сайте...</td>\n",
       "      <td>skazatb svoi eshchyo chto-to sait karta obiaza...</td>\n",
       "    </tr>\n",
       "    <tr>\n",
       "      <th>1</th>\n",
       "      <td>1512</td>\n",
       "      <td>21-05-2018</td>\n",
       "      <td>9:46</td>\n",
       "      <td>Конверсия платежа</td>\n",
       "      <td>1</td>\n",
       "      <td>спасибо до свидания хорошо я рада была вам пом...</td>\n",
       "      <td>spasibo svidanie rada pomochb dobryi svidanie ...</td>\n",
       "    </tr>\n",
       "    <tr>\n",
       "      <th>2</th>\n",
       "      <td>1512</td>\n",
       "      <td>25-05-2018</td>\n",
       "      <td>14:25</td>\n",
       "      <td>Конверсия посещения</td>\n",
       "      <td>0</td>\n",
       "      <td>будет готово ставка финансовые есть как это от...</td>\n",
       "      <td>gotovyi stavka finansovyi stavka semnadtsatb s...</td>\n",
       "    </tr>\n",
       "    <tr>\n",
       "      <th>3</th>\n",
       "      <td>1820</td>\n",
       "      <td>27-05-2018</td>\n",
       "      <td>12:41</td>\n",
       "      <td>Конверсия платежа</td>\n",
       "      <td>1</td>\n",
       "      <td>сейчас все закрыто хорошо узнаю все делать оче...</td>\n",
       "      <td>zakrytyi uznavatb delatb ochenb udobno sredi t...</td>\n",
       "    </tr>\n",
       "    <tr>\n",
       "      <th>4</th>\n",
       "      <td>1820</td>\n",
       "      <td>18-05-2018</td>\n",
       "      <td>10:12</td>\n",
       "      <td>Нет конверсии</td>\n",
       "      <td>0</td>\n",
       "      <td>окей справ после а сколько апелляционный понят...</td>\n",
       "      <td>okei sprava skolbko apelliatsionnyi poniatno o...</td>\n",
       "    </tr>\n",
       "  </tbody>\n",
       "</table>\n",
       "</div>"
      ],
      "text/plain": [
       "   personnel_num  guide_date guide_time           conversion  target_3_days  \\\n",
       "0           1512  18-05-2018      14:44        Нет конверсии              0   \n",
       "1           1512  21-05-2018       9:46    Конверсия платежа              1   \n",
       "2           1512  25-05-2018      14:25  Конверсия посещения              0   \n",
       "3           1820  27-05-2018      12:41    Конверсия платежа              1   \n",
       "4           1820  18-05-2018      10:12        Нет конверсии              0   \n",
       "\n",
       "                                                 txt  \\\n",
       "0  сейчас скажу своим да и ещё что-то он на сайте...   \n",
       "1  спасибо до свидания хорошо я рада была вам пом...   \n",
       "2  будет готово ставка финансовые есть как это от...   \n",
       "3  сейчас все закрыто хорошо узнаю все делать оче...   \n",
       "4  окей справ после а сколько апелляционный понят...   \n",
       "\n",
       "                                    txt_preprocessed  \n",
       "0  skazatb svoi eshchyo chto-to sait karta obiaza...  \n",
       "1  spasibo svidanie rada pomochb dobryi svidanie ...  \n",
       "2  gotovyi stavka finansovyi stavka semnadtsatb s...  \n",
       "3  zakrytyi uznavatb delatb ochenb udobno sredi t...  \n",
       "4  okei sprava skolbko apelliatsionnyi poniatno o...  "
      ]
     },
     "execution_count": 240,
     "metadata": {},
     "output_type": "execute_result"
    }
   ],
   "source": [
    "preprocessed_df1.head()"
   ]
  },
  {
   "cell_type": "code",
   "execution_count": 250,
   "metadata": {},
   "outputs": [],
   "source": [
    "preprocessed_df1[\"Weekday\"] = pd.to_datetime(preprocessed_df1.guide_date).apply(lambda x: x.weekday())\n",
    "preprocessed_df1[\"Hour\"] = pd.to_datetime(preprocessed_df1.guide_time).apply(lambda x: x.hour)"
   ]
  },
  {
   "cell_type": "code",
   "execution_count": 252,
   "metadata": {},
   "outputs": [],
   "source": [
    "preprocessed_df2 = preprocessed_df1.drop([\"guide_date\", \"guide_time\", \"personnel_num\", \"txt\", \"conversion\"], axis=1)"
   ]
  },
  {
   "cell_type": "code",
   "execution_count": 266,
   "metadata": {},
   "outputs": [],
   "source": [
    "preprocessed_df2[\"Weekday\"] = preprocessed_df2[\"Weekday\"].apply(lambda x: x % 2 == 0)"
   ]
  },
  {
   "cell_type": "code",
   "execution_count": 268,
   "metadata": {},
   "outputs": [],
   "source": [
    "preprocessed_df2[\"Hour\"] = preprocessed_df2[\"Hour\"].apply(lambda x: x <= 14)"
   ]
  },
  {
   "cell_type": "code",
   "execution_count": 269,
   "metadata": {},
   "outputs": [
    {
     "data": {
      "text/html": [
       "<div>\n",
       "<style scoped>\n",
       "    .dataframe tbody tr th:only-of-type {\n",
       "        vertical-align: middle;\n",
       "    }\n",
       "\n",
       "    .dataframe tbody tr th {\n",
       "        vertical-align: top;\n",
       "    }\n",
       "\n",
       "    .dataframe thead th {\n",
       "        text-align: right;\n",
       "    }\n",
       "</style>\n",
       "<table border=\"1\" class=\"dataframe\">\n",
       "  <thead>\n",
       "    <tr style=\"text-align: right;\">\n",
       "      <th></th>\n",
       "      <th>target_3_days</th>\n",
       "      <th>txt_preprocessed</th>\n",
       "      <th>Weekday</th>\n",
       "      <th>Hour</th>\n",
       "    </tr>\n",
       "  </thead>\n",
       "  <tbody>\n",
       "    <tr>\n",
       "      <th>0</th>\n",
       "      <td>0</td>\n",
       "      <td>skazatb svoi eshchyo chto-to sait karta obiaza...</td>\n",
       "      <td>True</td>\n",
       "      <td>True</td>\n",
       "    </tr>\n",
       "    <tr>\n",
       "      <th>1</th>\n",
       "      <td>1</td>\n",
       "      <td>spasibo svidanie rada pomochb dobryi svidanie ...</td>\n",
       "      <td>True</td>\n",
       "      <td>True</td>\n",
       "    </tr>\n",
       "    <tr>\n",
       "      <th>2</th>\n",
       "      <td>0</td>\n",
       "      <td>gotovyi stavka finansovyi stavka semnadtsatb s...</td>\n",
       "      <td>True</td>\n",
       "      <td>True</td>\n",
       "    </tr>\n",
       "    <tr>\n",
       "      <th>3</th>\n",
       "      <td>1</td>\n",
       "      <td>zakrytyi uznavatb delatb ochenb udobno sredi t...</td>\n",
       "      <td>True</td>\n",
       "      <td>True</td>\n",
       "    </tr>\n",
       "    <tr>\n",
       "      <th>4</th>\n",
       "      <td>0</td>\n",
       "      <td>okei sprava skolbko apelliatsionnyi poniatno o...</td>\n",
       "      <td>True</td>\n",
       "      <td>True</td>\n",
       "    </tr>\n",
       "  </tbody>\n",
       "</table>\n",
       "</div>"
      ],
      "text/plain": [
       "   target_3_days                                   txt_preprocessed  Weekday  \\\n",
       "0              0  skazatb svoi eshchyo chto-to sait karta obiaza...     True   \n",
       "1              1  spasibo svidanie rada pomochb dobryi svidanie ...     True   \n",
       "2              0  gotovyi stavka finansovyi stavka semnadtsatb s...     True   \n",
       "3              1  zakrytyi uznavatb delatb ochenb udobno sredi t...     True   \n",
       "4              0  okei sprava skolbko apelliatsionnyi poniatno o...     True   \n",
       "\n",
       "   Hour  \n",
       "0  True  \n",
       "1  True  \n",
       "2  True  \n",
       "3  True  \n",
       "4  True  "
      ]
     },
     "execution_count": 269,
     "metadata": {},
     "output_type": "execute_result"
    }
   ],
   "source": [
    "preprocessed_df2.head()"
   ]
  },
  {
   "cell_type": "markdown",
   "metadata": {
    "collapsed": true
   },
   "source": [
    "8) Можем ли мы предсказать, был ли платеж после разговора с гидом, основываясь только на word2vec признаках?\n",
    "- Возьмите среднее векторное представление по каждому тексту и используйте его для тренировки модели с таргетом 'target_3_days'\n",
    "- А что, если добавить информацию о гиде? У какой модели лучше результаты?"
   ]
  },
  {
   "cell_type": "code",
   "execution_count": 276,
   "metadata": {},
   "outputs": [
    {
     "data": {
      "text/plain": [
       "(1796, 4)"
      ]
     },
     "execution_count": 276,
     "metadata": {},
     "output_type": "execute_result"
    }
   ],
   "source": [
    "preprocessed_df2.shape"
   ]
  },
  {
   "cell_type": "code",
   "execution_count": 281,
   "metadata": {},
   "outputs": [],
   "source": [
    "preprocessed_df2[\"cleaned_text\"] = preprocessed_df2[\"txt_preprocessed\"].apply(lambda text: \" \".join([word for word in text.split() if word not in ignore_corpus]) )"
   ]
  },
  {
   "cell_type": "code",
   "execution_count": 292,
   "metadata": {},
   "outputs": [
    {
     "data": {
      "text/html": [
       "<div>\n",
       "<style scoped>\n",
       "    .dataframe tbody tr th:only-of-type {\n",
       "        vertical-align: middle;\n",
       "    }\n",
       "\n",
       "    .dataframe tbody tr th {\n",
       "        vertical-align: top;\n",
       "    }\n",
       "\n",
       "    .dataframe thead th {\n",
       "        text-align: right;\n",
       "    }\n",
       "</style>\n",
       "<table border=\"1\" class=\"dataframe\">\n",
       "  <thead>\n",
       "    <tr style=\"text-align: right;\">\n",
       "      <th></th>\n",
       "      <th>target_3_days</th>\n",
       "      <th>txt_preprocessed</th>\n",
       "      <th>Weekday</th>\n",
       "      <th>Hour</th>\n",
       "      <th>cleaned_text</th>\n",
       "    </tr>\n",
       "  </thead>\n",
       "  <tbody>\n",
       "    <tr>\n",
       "      <th>0</th>\n",
       "      <td>0</td>\n",
       "      <td>skazatb svoi eshchyo chto-to sait karta obiaza...</td>\n",
       "      <td>True</td>\n",
       "      <td>True</td>\n",
       "      <td>skazatb svoi eshchyo chto-to sait karta obiaza...</td>\n",
       "    </tr>\n",
       "    <tr>\n",
       "      <th>1</th>\n",
       "      <td>1</td>\n",
       "      <td>spasibo svidanie rada pomochb dobryi svidanie ...</td>\n",
       "      <td>True</td>\n",
       "      <td>True</td>\n",
       "      <td>spasibo svidanie rada pomochb dobryi svidanie ...</td>\n",
       "    </tr>\n",
       "    <tr>\n",
       "      <th>2</th>\n",
       "      <td>0</td>\n",
       "      <td>gotovyi stavka finansovyi stavka semnadtsatb s...</td>\n",
       "      <td>True</td>\n",
       "      <td>True</td>\n",
       "      <td>gotovyi stavka finansovyi stavka semnadtsatb s...</td>\n",
       "    </tr>\n",
       "    <tr>\n",
       "      <th>3</th>\n",
       "      <td>1</td>\n",
       "      <td>zakrytyi uznavatb delatb ochenb udobno sredi t...</td>\n",
       "      <td>True</td>\n",
       "      <td>True</td>\n",
       "      <td>zakrytyi uznavatb delatb ochenb udobno sredi t...</td>\n",
       "    </tr>\n",
       "    <tr>\n",
       "      <th>4</th>\n",
       "      <td>0</td>\n",
       "      <td>okei sprava skolbko apelliatsionnyi poniatno o...</td>\n",
       "      <td>True</td>\n",
       "      <td>True</td>\n",
       "      <td>okei sprava skolbko apelliatsionnyi poniatno o...</td>\n",
       "    </tr>\n",
       "  </tbody>\n",
       "</table>\n",
       "</div>"
      ],
      "text/plain": [
       "   target_3_days                                   txt_preprocessed  Weekday  \\\n",
       "0              0  skazatb svoi eshchyo chto-to sait karta obiaza...     True   \n",
       "1              1  spasibo svidanie rada pomochb dobryi svidanie ...     True   \n",
       "2              0  gotovyi stavka finansovyi stavka semnadtsatb s...     True   \n",
       "3              1  zakrytyi uznavatb delatb ochenb udobno sredi t...     True   \n",
       "4              0  okei sprava skolbko apelliatsionnyi poniatno o...     True   \n",
       "\n",
       "   Hour                                       cleaned_text  \n",
       "0  True  skazatb svoi eshchyo chto-to sait karta obiaza...  \n",
       "1  True  spasibo svidanie rada pomochb dobryi svidanie ...  \n",
       "2  True  gotovyi stavka finansovyi stavka semnadtsatb s...  \n",
       "3  True  zakrytyi uznavatb delatb ochenb udobno sredi t...  \n",
       "4  True  okei sprava skolbko apelliatsionnyi poniatno o...  "
      ]
     },
     "execution_count": 292,
     "metadata": {},
     "output_type": "execute_result"
    }
   ],
   "source": [
    "preprocessed_df2.head()"
   ]
  },
  {
   "cell_type": "code",
   "execution_count": 295,
   "metadata": {},
   "outputs": [
    {
     "name": "stderr",
     "output_type": "stream",
     "text": [
      "/Users/dosya/Envs/ds/lib/python3.6/site-packages/ipykernel_launcher.py:3: DeprecationWarning: Call to deprecated `__getitem__` (Method will be removed in 4.0.0, use self.wv.__getitem__() instead).\n",
      "  This is separate from the ipykernel package so we can avoid doing imports until\n"
     ]
    },
    {
     "ename": "KeyError",
     "evalue": "\"word 'eshchyo' not in vocabulary\"",
     "output_type": "error",
     "traceback": [
      "\u001b[0;31m---------------------------------------------------------------------------\u001b[0m",
      "\u001b[0;31mKeyError\u001b[0m                                  Traceback (most recent call last)",
      "\u001b[0;32m<ipython-input-295-106b14788ed2>\u001b[0m in \u001b[0;36m<module>\u001b[0;34m()\u001b[0m\n\u001b[1;32m      1\u001b[0m \u001b[0mmatrix\u001b[0m \u001b[0;34m=\u001b[0m \u001b[0;34m[\u001b[0m\u001b[0;34m]\u001b[0m\u001b[0;34m\u001b[0m\u001b[0m\n\u001b[1;32m      2\u001b[0m \u001b[0;32mfor\u001b[0m \u001b[0mword\u001b[0m \u001b[0;32min\u001b[0m \u001b[0mpreprocessed_df2\u001b[0m\u001b[0;34m[\u001b[0m\u001b[0;34m\"cleaned_text\"\u001b[0m\u001b[0;34m]\u001b[0m\u001b[0;34m[\u001b[0m\u001b[0;36m0\u001b[0m\u001b[0;34m]\u001b[0m\u001b[0;34m.\u001b[0m\u001b[0msplit\u001b[0m\u001b[0;34m(\u001b[0m\u001b[0;34m)\u001b[0m\u001b[0;34m:\u001b[0m\u001b[0;34m\u001b[0m\u001b[0m\n\u001b[0;32m----> 3\u001b[0;31m     \u001b[0mmatrix\u001b[0m\u001b[0;34m.\u001b[0m\u001b[0mappend\u001b[0m\u001b[0;34m(\u001b[0m\u001b[0mmodel\u001b[0m\u001b[0;34m[\u001b[0m\u001b[0mword\u001b[0m\u001b[0;34m]\u001b[0m\u001b[0;34m)\u001b[0m\u001b[0;34m\u001b[0m\u001b[0m\n\u001b[0m",
      "\u001b[0;32m~/Envs/ds/lib/python3.6/site-packages/gensim/utils.py\u001b[0m in \u001b[0;36mnew_func1\u001b[0;34m(*args, **kwargs)\u001b[0m\n\u001b[1;32m   1417\u001b[0m                     \u001b[0mstacklevel\u001b[0m\u001b[0;34m=\u001b[0m\u001b[0;36m2\u001b[0m\u001b[0;34m\u001b[0m\u001b[0m\n\u001b[1;32m   1418\u001b[0m                 )\n\u001b[0;32m-> 1419\u001b[0;31m                 \u001b[0;32mreturn\u001b[0m \u001b[0mfunc\u001b[0m\u001b[0;34m(\u001b[0m\u001b[0;34m*\u001b[0m\u001b[0margs\u001b[0m\u001b[0;34m,\u001b[0m \u001b[0;34m**\u001b[0m\u001b[0mkwargs\u001b[0m\u001b[0;34m)\u001b[0m\u001b[0;34m\u001b[0m\u001b[0m\n\u001b[0m\u001b[1;32m   1420\u001b[0m \u001b[0;34m\u001b[0m\u001b[0m\n\u001b[1;32m   1421\u001b[0m             \u001b[0;32mreturn\u001b[0m \u001b[0mnew_func1\u001b[0m\u001b[0;34m\u001b[0m\u001b[0m\n",
      "\u001b[0;32m~/Envs/ds/lib/python3.6/site-packages/gensim/models/word2vec.py\u001b[0m in \u001b[0;36m__getitem__\u001b[0;34m(self, words)\u001b[0m\n\u001b[1;32m   1065\u001b[0m \u001b[0;34m\u001b[0m\u001b[0m\n\u001b[1;32m   1066\u001b[0m         \"\"\"\n\u001b[0;32m-> 1067\u001b[0;31m         \u001b[0;32mreturn\u001b[0m \u001b[0mself\u001b[0m\u001b[0;34m.\u001b[0m\u001b[0mwv\u001b[0m\u001b[0;34m.\u001b[0m\u001b[0m__getitem__\u001b[0m\u001b[0;34m(\u001b[0m\u001b[0mwords\u001b[0m\u001b[0;34m)\u001b[0m\u001b[0;34m\u001b[0m\u001b[0m\n\u001b[0m\u001b[1;32m   1068\u001b[0m \u001b[0;34m\u001b[0m\u001b[0m\n\u001b[1;32m   1069\u001b[0m     \u001b[0;34m@\u001b[0m\u001b[0mdeprecated\u001b[0m\u001b[0;34m(\u001b[0m\u001b[0;34m\"Method will be removed in 4.0.0, use self.wv.__contains__() instead\"\u001b[0m\u001b[0;34m)\u001b[0m\u001b[0;34m\u001b[0m\u001b[0m\n",
      "\u001b[0;32m~/Envs/ds/lib/python3.6/site-packages/gensim/models/keyedvectors.py\u001b[0m in \u001b[0;36m__getitem__\u001b[0;34m(self, entities)\u001b[0m\n\u001b[1;32m    334\u001b[0m         \u001b[0;32mif\u001b[0m \u001b[0misinstance\u001b[0m\u001b[0;34m(\u001b[0m\u001b[0mentities\u001b[0m\u001b[0;34m,\u001b[0m \u001b[0mstring_types\u001b[0m\u001b[0;34m)\u001b[0m\u001b[0;34m:\u001b[0m\u001b[0;34m\u001b[0m\u001b[0m\n\u001b[1;32m    335\u001b[0m             \u001b[0;31m# allow calls like trained_model['office'], as a shorthand for trained_model[['office']]\u001b[0m\u001b[0;34m\u001b[0m\u001b[0;34m\u001b[0m\u001b[0m\n\u001b[0;32m--> 336\u001b[0;31m             \u001b[0;32mreturn\u001b[0m \u001b[0mself\u001b[0m\u001b[0;34m.\u001b[0m\u001b[0mget_vector\u001b[0m\u001b[0;34m(\u001b[0m\u001b[0mentities\u001b[0m\u001b[0;34m)\u001b[0m\u001b[0;34m\u001b[0m\u001b[0m\n\u001b[0m\u001b[1;32m    337\u001b[0m \u001b[0;34m\u001b[0m\u001b[0m\n\u001b[1;32m    338\u001b[0m         \u001b[0;32mreturn\u001b[0m \u001b[0mvstack\u001b[0m\u001b[0;34m(\u001b[0m\u001b[0;34m[\u001b[0m\u001b[0mself\u001b[0m\u001b[0;34m.\u001b[0m\u001b[0mget_vector\u001b[0m\u001b[0;34m(\u001b[0m\u001b[0mentity\u001b[0m\u001b[0;34m)\u001b[0m \u001b[0;32mfor\u001b[0m \u001b[0mentity\u001b[0m \u001b[0;32min\u001b[0m \u001b[0mentities\u001b[0m\u001b[0;34m]\u001b[0m\u001b[0;34m)\u001b[0m\u001b[0;34m\u001b[0m\u001b[0m\n",
      "\u001b[0;32m~/Envs/ds/lib/python3.6/site-packages/gensim/models/keyedvectors.py\u001b[0m in \u001b[0;36mget_vector\u001b[0;34m(self, word)\u001b[0m\n\u001b[1;32m    452\u001b[0m \u001b[0;34m\u001b[0m\u001b[0m\n\u001b[1;32m    453\u001b[0m     \u001b[0;32mdef\u001b[0m \u001b[0mget_vector\u001b[0m\u001b[0;34m(\u001b[0m\u001b[0mself\u001b[0m\u001b[0;34m,\u001b[0m \u001b[0mword\u001b[0m\u001b[0;34m)\u001b[0m\u001b[0;34m:\u001b[0m\u001b[0;34m\u001b[0m\u001b[0m\n\u001b[0;32m--> 454\u001b[0;31m         \u001b[0;32mreturn\u001b[0m \u001b[0mself\u001b[0m\u001b[0;34m.\u001b[0m\u001b[0mword_vec\u001b[0m\u001b[0;34m(\u001b[0m\u001b[0mword\u001b[0m\u001b[0;34m)\u001b[0m\u001b[0;34m\u001b[0m\u001b[0m\n\u001b[0m\u001b[1;32m    455\u001b[0m \u001b[0;34m\u001b[0m\u001b[0m\n\u001b[1;32m    456\u001b[0m     \u001b[0;32mdef\u001b[0m \u001b[0mwords_closer_than\u001b[0m\u001b[0;34m(\u001b[0m\u001b[0mself\u001b[0m\u001b[0;34m,\u001b[0m \u001b[0mw1\u001b[0m\u001b[0;34m,\u001b[0m \u001b[0mw2\u001b[0m\u001b[0;34m)\u001b[0m\u001b[0;34m:\u001b[0m\u001b[0;34m\u001b[0m\u001b[0m\n",
      "\u001b[0;32m~/Envs/ds/lib/python3.6/site-packages/gensim/models/keyedvectors.py\u001b[0m in \u001b[0;36mword_vec\u001b[0;34m(self, word, use_norm)\u001b[0m\n\u001b[1;32m    449\u001b[0m             \u001b[0;32mreturn\u001b[0m \u001b[0mresult\u001b[0m\u001b[0;34m\u001b[0m\u001b[0m\n\u001b[1;32m    450\u001b[0m         \u001b[0;32melse\u001b[0m\u001b[0;34m:\u001b[0m\u001b[0;34m\u001b[0m\u001b[0m\n\u001b[0;32m--> 451\u001b[0;31m             \u001b[0;32mraise\u001b[0m \u001b[0mKeyError\u001b[0m\u001b[0;34m(\u001b[0m\u001b[0;34m\"word '%s' not in vocabulary\"\u001b[0m \u001b[0;34m%\u001b[0m \u001b[0mword\u001b[0m\u001b[0;34m)\u001b[0m\u001b[0;34m\u001b[0m\u001b[0m\n\u001b[0m\u001b[1;32m    452\u001b[0m \u001b[0;34m\u001b[0m\u001b[0m\n\u001b[1;32m    453\u001b[0m     \u001b[0;32mdef\u001b[0m \u001b[0mget_vector\u001b[0m\u001b[0;34m(\u001b[0m\u001b[0mself\u001b[0m\u001b[0;34m,\u001b[0m \u001b[0mword\u001b[0m\u001b[0;34m)\u001b[0m\u001b[0;34m:\u001b[0m\u001b[0;34m\u001b[0m\u001b[0m\n",
      "\u001b[0;31mKeyError\u001b[0m: \"word 'eshchyo' not in vocabulary\""
     ]
    }
   ],
   "source": [
    "matrix = []\n",
    "for word in preprocessed_df2[\"cleaned_text\"][0].split():\n",
    "    matrix.append(model[word])"
   ]
  },
  {
   "cell_type": "code",
   "execution_count": 297,
   "metadata": {},
   "outputs": [
    {
     "name": "stderr",
     "output_type": "stream",
     "text": [
      "/Users/dosya/Envs/ds/lib/python3.6/site-packages/ipykernel_launcher.py:1: DeprecationWarning: Call to deprecated `__getitem__` (Method will be removed in 4.0.0, use self.wv.__getitem__() instead).\n",
      "  \"\"\"Entry point for launching an IPython kernel.\n"
     ]
    },
    {
     "ename": "KeyError",
     "evalue": "\"word 'eshchyo' not in vocabulary\"",
     "output_type": "error",
     "traceback": [
      "\u001b[0;31m---------------------------------------------------------------------------\u001b[0m",
      "\u001b[0;31mKeyError\u001b[0m                                  Traceback (most recent call last)",
      "\u001b[0;32m<ipython-input-297-35057afe2005>\u001b[0m in \u001b[0;36m<module>\u001b[0;34m()\u001b[0m\n\u001b[0;32m----> 1\u001b[0;31m \u001b[0mmodel\u001b[0m\u001b[0;34m[\u001b[0m\u001b[0;34m'eshchyo'\u001b[0m\u001b[0;34m]\u001b[0m\u001b[0;34m\u001b[0m\u001b[0m\n\u001b[0m",
      "\u001b[0;32m~/Envs/ds/lib/python3.6/site-packages/gensim/utils.py\u001b[0m in \u001b[0;36mnew_func1\u001b[0;34m(*args, **kwargs)\u001b[0m\n\u001b[1;32m   1417\u001b[0m                     \u001b[0mstacklevel\u001b[0m\u001b[0;34m=\u001b[0m\u001b[0;36m2\u001b[0m\u001b[0;34m\u001b[0m\u001b[0m\n\u001b[1;32m   1418\u001b[0m                 )\n\u001b[0;32m-> 1419\u001b[0;31m                 \u001b[0;32mreturn\u001b[0m \u001b[0mfunc\u001b[0m\u001b[0;34m(\u001b[0m\u001b[0;34m*\u001b[0m\u001b[0margs\u001b[0m\u001b[0;34m,\u001b[0m \u001b[0;34m**\u001b[0m\u001b[0mkwargs\u001b[0m\u001b[0;34m)\u001b[0m\u001b[0;34m\u001b[0m\u001b[0m\n\u001b[0m\u001b[1;32m   1420\u001b[0m \u001b[0;34m\u001b[0m\u001b[0m\n\u001b[1;32m   1421\u001b[0m             \u001b[0;32mreturn\u001b[0m \u001b[0mnew_func1\u001b[0m\u001b[0;34m\u001b[0m\u001b[0m\n",
      "\u001b[0;32m~/Envs/ds/lib/python3.6/site-packages/gensim/models/word2vec.py\u001b[0m in \u001b[0;36m__getitem__\u001b[0;34m(self, words)\u001b[0m\n\u001b[1;32m   1065\u001b[0m \u001b[0;34m\u001b[0m\u001b[0m\n\u001b[1;32m   1066\u001b[0m         \"\"\"\n\u001b[0;32m-> 1067\u001b[0;31m         \u001b[0;32mreturn\u001b[0m \u001b[0mself\u001b[0m\u001b[0;34m.\u001b[0m\u001b[0mwv\u001b[0m\u001b[0;34m.\u001b[0m\u001b[0m__getitem__\u001b[0m\u001b[0;34m(\u001b[0m\u001b[0mwords\u001b[0m\u001b[0;34m)\u001b[0m\u001b[0;34m\u001b[0m\u001b[0m\n\u001b[0m\u001b[1;32m   1068\u001b[0m \u001b[0;34m\u001b[0m\u001b[0m\n\u001b[1;32m   1069\u001b[0m     \u001b[0;34m@\u001b[0m\u001b[0mdeprecated\u001b[0m\u001b[0;34m(\u001b[0m\u001b[0;34m\"Method will be removed in 4.0.0, use self.wv.__contains__() instead\"\u001b[0m\u001b[0;34m)\u001b[0m\u001b[0;34m\u001b[0m\u001b[0m\n",
      "\u001b[0;32m~/Envs/ds/lib/python3.6/site-packages/gensim/models/keyedvectors.py\u001b[0m in \u001b[0;36m__getitem__\u001b[0;34m(self, entities)\u001b[0m\n\u001b[1;32m    334\u001b[0m         \u001b[0;32mif\u001b[0m \u001b[0misinstance\u001b[0m\u001b[0;34m(\u001b[0m\u001b[0mentities\u001b[0m\u001b[0;34m,\u001b[0m \u001b[0mstring_types\u001b[0m\u001b[0;34m)\u001b[0m\u001b[0;34m:\u001b[0m\u001b[0;34m\u001b[0m\u001b[0m\n\u001b[1;32m    335\u001b[0m             \u001b[0;31m# allow calls like trained_model['office'], as a shorthand for trained_model[['office']]\u001b[0m\u001b[0;34m\u001b[0m\u001b[0;34m\u001b[0m\u001b[0m\n\u001b[0;32m--> 336\u001b[0;31m             \u001b[0;32mreturn\u001b[0m \u001b[0mself\u001b[0m\u001b[0;34m.\u001b[0m\u001b[0mget_vector\u001b[0m\u001b[0;34m(\u001b[0m\u001b[0mentities\u001b[0m\u001b[0;34m)\u001b[0m\u001b[0;34m\u001b[0m\u001b[0m\n\u001b[0m\u001b[1;32m    337\u001b[0m \u001b[0;34m\u001b[0m\u001b[0m\n\u001b[1;32m    338\u001b[0m         \u001b[0;32mreturn\u001b[0m \u001b[0mvstack\u001b[0m\u001b[0;34m(\u001b[0m\u001b[0;34m[\u001b[0m\u001b[0mself\u001b[0m\u001b[0;34m.\u001b[0m\u001b[0mget_vector\u001b[0m\u001b[0;34m(\u001b[0m\u001b[0mentity\u001b[0m\u001b[0;34m)\u001b[0m \u001b[0;32mfor\u001b[0m \u001b[0mentity\u001b[0m \u001b[0;32min\u001b[0m \u001b[0mentities\u001b[0m\u001b[0;34m]\u001b[0m\u001b[0;34m)\u001b[0m\u001b[0;34m\u001b[0m\u001b[0m\n",
      "\u001b[0;32m~/Envs/ds/lib/python3.6/site-packages/gensim/models/keyedvectors.py\u001b[0m in \u001b[0;36mget_vector\u001b[0;34m(self, word)\u001b[0m\n\u001b[1;32m    452\u001b[0m \u001b[0;34m\u001b[0m\u001b[0m\n\u001b[1;32m    453\u001b[0m     \u001b[0;32mdef\u001b[0m \u001b[0mget_vector\u001b[0m\u001b[0;34m(\u001b[0m\u001b[0mself\u001b[0m\u001b[0;34m,\u001b[0m \u001b[0mword\u001b[0m\u001b[0;34m)\u001b[0m\u001b[0;34m:\u001b[0m\u001b[0;34m\u001b[0m\u001b[0m\n\u001b[0;32m--> 454\u001b[0;31m         \u001b[0;32mreturn\u001b[0m \u001b[0mself\u001b[0m\u001b[0;34m.\u001b[0m\u001b[0mword_vec\u001b[0m\u001b[0;34m(\u001b[0m\u001b[0mword\u001b[0m\u001b[0;34m)\u001b[0m\u001b[0;34m\u001b[0m\u001b[0m\n\u001b[0m\u001b[1;32m    455\u001b[0m \u001b[0;34m\u001b[0m\u001b[0m\n\u001b[1;32m    456\u001b[0m     \u001b[0;32mdef\u001b[0m \u001b[0mwords_closer_than\u001b[0m\u001b[0;34m(\u001b[0m\u001b[0mself\u001b[0m\u001b[0;34m,\u001b[0m \u001b[0mw1\u001b[0m\u001b[0;34m,\u001b[0m \u001b[0mw2\u001b[0m\u001b[0;34m)\u001b[0m\u001b[0;34m:\u001b[0m\u001b[0;34m\u001b[0m\u001b[0m\n",
      "\u001b[0;32m~/Envs/ds/lib/python3.6/site-packages/gensim/models/keyedvectors.py\u001b[0m in \u001b[0;36mword_vec\u001b[0;34m(self, word, use_norm)\u001b[0m\n\u001b[1;32m    449\u001b[0m             \u001b[0;32mreturn\u001b[0m \u001b[0mresult\u001b[0m\u001b[0;34m\u001b[0m\u001b[0m\n\u001b[1;32m    450\u001b[0m         \u001b[0;32melse\u001b[0m\u001b[0;34m:\u001b[0m\u001b[0;34m\u001b[0m\u001b[0m\n\u001b[0;32m--> 451\u001b[0;31m             \u001b[0;32mraise\u001b[0m \u001b[0mKeyError\u001b[0m\u001b[0;34m(\u001b[0m\u001b[0;34m\"word '%s' not in vocabulary\"\u001b[0m \u001b[0;34m%\u001b[0m \u001b[0mword\u001b[0m\u001b[0;34m)\u001b[0m\u001b[0;34m\u001b[0m\u001b[0m\n\u001b[0m\u001b[1;32m    452\u001b[0m \u001b[0;34m\u001b[0m\u001b[0m\n\u001b[1;32m    453\u001b[0m     \u001b[0;32mdef\u001b[0m \u001b[0mget_vector\u001b[0m\u001b[0;34m(\u001b[0m\u001b[0mself\u001b[0m\u001b[0;34m,\u001b[0m \u001b[0mword\u001b[0m\u001b[0;34m)\u001b[0m\u001b[0;34m:\u001b[0m\u001b[0;34m\u001b[0m\u001b[0m\n",
      "\u001b[0;31mKeyError\u001b[0m: \"word 'eshchyo' not in vocabulary\""
     ]
    }
   ],
   "source": [
    "model['eshchyo']"
   ]
  },
  {
   "cell_type": "markdown",
   "metadata": {},
   "source": [
    "**Финальные вопросы: что отличает хорошего гида от плохого? Какие дополнительные данные помогли бы ответить на этот вопрос?**"
   ]
  }
 ],
 "metadata": {
  "hide_input": false,
  "kernelspec": {
   "display_name": "Python 3",
   "language": "python",
   "name": "python3"
  },
  "language_info": {
   "codemirror_mode": {
    "name": "ipython",
    "version": 3
   },
   "file_extension": ".py",
   "mimetype": "text/x-python",
   "name": "python",
   "nbconvert_exporter": "python",
   "pygments_lexer": "ipython3",
   "version": "3.6.1"
  },
  "toc": {
   "base_numbering": 1,
   "nav_menu": {},
   "number_sections": true,
   "sideBar": true,
   "skip_h1_title": false,
   "title_cell": "Table of Contents",
   "title_sidebar": "Contents",
   "toc_cell": false,
   "toc_position": {},
   "toc_section_display": true,
   "toc_window_display": false
  }
 },
 "nbformat": 4,
 "nbformat_minor": 2
}
