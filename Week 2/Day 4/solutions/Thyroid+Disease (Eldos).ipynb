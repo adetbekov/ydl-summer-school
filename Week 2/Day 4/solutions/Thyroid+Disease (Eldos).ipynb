{
 "cells": [
  {
   "cell_type": "markdown",
   "metadata": {},
   "source": [
    "# Thyroid Disease classification problem"
   ]
  },
  {
   "cell_type": "code",
   "execution_count": 2,
   "metadata": {
    "collapsed": true
   },
   "outputs": [],
   "source": [
    "import warnings\n",
    "import numpy as np\n",
    "import pandas as pd\n",
    "import seaborn as sns\n",
    "import matplotlib.pyplot as plt\n",
    "\n",
    "%matplotlib inline\n",
    "warnings.filterwarnings('ignore')"
   ]
  },
  {
   "cell_type": "code",
   "execution_count": 3,
   "metadata": {
    "collapsed": true
   },
   "outputs": [],
   "source": [
    "from sklearn.svm import SVC\n",
    "from sklearn.decomposition import PCA\n",
    "from sklearn.neighbors import KNeighborsClassifier\n",
    "from sklearn.linear_model import LogisticRegression\n",
    "from sklearn.model_selection import cross_val_score, cross_validate, GridSearchCV, train_test_split, StratifiedKFold\n",
    "from sklearn.metrics import mean_squared_error, confusion_matrix, accuracy_score, classification_report, roc_curve, auc, f1_score"
   ]
  },
  {
   "cell_type": "markdown",
   "metadata": {},
   "source": [
    "### Import data considering gaps (empty spaces)"
   ]
  },
  {
   "cell_type": "code",
   "execution_count": 4,
   "metadata": {
    "collapsed": true
   },
   "outputs": [],
   "source": [
    "df = pd.read_csv(\"thyroid.csv\", sep =', ')"
   ]
  },
  {
   "cell_type": "code",
   "execution_count": 5,
   "metadata": {
    "collapsed": false
   },
   "outputs": [
    {
     "data": {
      "text/plain": [
       "<matplotlib.axes._subplots.AxesSubplot at 0x114d52470>"
      ]
     },
     "execution_count": 5,
     "metadata": {},
     "output_type": "execute_result"
    },
    {
     "data": {
      "image/png": "[encoded data removed]",
      "text/plain": [
       "<matplotlib.figure.Figure at 0x1148f7ac8>"
      ]
     },
     "metadata": {},
     "output_type": "display_data"
    }
   ],
   "source": [
    "'''\n",
    "Three classes are not well-balanced, so that prediction \n",
    "could be not relevant for classes where overall amount is less(1,2 classes) \n",
    "'''\n",
    "pd.value_counts(df['Class']).plot.bar()"
   ]
  },
  {
   "cell_type": "code",
   "execution_count": 6,
   "metadata": {
    "collapsed": true
   },
   "outputs": [],
   "source": [
    "X = df.drop(\"Class\", axis=1)\n",
    "y = df[\"Class\"]"
   ]
  },
  {
   "cell_type": "code",
   "execution_count": 7,
   "metadata": {
    "collapsed": true
   },
   "outputs": [],
   "source": [
    "X_train, X_test, y_train, y_test = train_test_split(X, y, test_size=0.25)"
   ]
  },
  {
   "cell_type": "markdown",
   "metadata": {},
   "source": [
    "### Trying to fit data into simplest Logistic Regression"
   ]
  },
  {
   "cell_type": "code",
   "execution_count": 8,
   "metadata": {
    "collapsed": true
   },
   "outputs": [],
   "source": [
    "logreg = LogisticRegression()\n",
    "results = logreg.fit(X_train, y_train).predict(X_test)"
   ]
  },
  {
   "cell_type": "code",
   "execution_count": 9,
   "metadata": {
    "collapsed": false
   },
   "outputs": [
    {
     "data": {
      "text/plain": [
       "0.9277777777777778"
      ]
     },
     "execution_count": 9,
     "metadata": {},
     "output_type": "execute_result"
    }
   ],
   "source": [
    "accuracy_score(results, y_test)"
   ]
  },
  {
   "cell_type": "code",
   "execution_count": 10,
   "metadata": {
    "collapsed": false
   },
   "outputs": [
    {
     "data": {
      "text/plain": [
       "<matplotlib.axes._subplots.AxesSubplot at 0x114cf3668>"
      ]
     },
     "execution_count": 10,
     "metadata": {},
     "output_type": "execute_result"
    },
    {
     "data": {
      "image/png": "[encoded data removed]",
      "text/plain": [
       "<matplotlib.figure.Figure at 0x114d3b1d0>"
      ]
     },
     "metadata": {},
     "output_type": "display_data"
    }
   ],
   "source": [
    "sns.heatmap(confusion_matrix(results, y_test), cmap=\"Blues\", annot=True)"
   ]
  },
  {
   "cell_type": "code",
   "execution_count": 11,
   "metadata": {
    "collapsed": false
   },
   "outputs": [
    {
     "name": "stdout",
     "output_type": "stream",
     "text": [
      "             precision    recall  f1-score   support\n",
      "\n",
      "          1       0.12      1.00      0.21         6\n",
      "          2       0.00      0.00      0.00         1\n",
      "          3       1.00      0.93      0.96      1793\n",
      "\n",
      "avg / total       1.00      0.93      0.96      1800\n",
      "\n"
     ]
    }
   ],
   "source": [
    "print(classification_report(results, y_test))"
   ]
  },
  {
   "cell_type": "markdown",
   "metadata": {},
   "source": [
    "But here we see that Confusion matrix diagonal value is relevant only for 3rd class, so that we should balance our target."
   ]
  },
  {
   "cell_type": "code",
   "execution_count": 10,
   "metadata": {
    "collapsed": true
   },
   "outputs": [],
   "source": [
    "def pca(n_components, X_train, X_test, whiten=True):\n",
    "    pca = PCA(n_components=n_components, whiten=whiten).fit(X_train)\n",
    "    return pca.transform(X_train), pca.transform(X_test)"
   ]
  },
  {
   "cell_type": "code",
   "execution_count": 11,
   "metadata": {
    "collapsed": true
   },
   "outputs": [],
   "source": [
    "def best_pca(b, e, coef, X_train, X_test, y_train, y_test):\n",
    "    n_range, n_scores = [], [] \n",
    "    \n",
    "    for i in range(b, e+1):\n",
    "        n_range.append(i)\n",
    "        X_train_pca, X_test_pca = pca(i, X_train, X_test)\n",
    "        n_scores.append(knn(best_k, X_train_pca, X_test_pca, y_train, y_test, silence=True)[1])\n",
    "        \n",
    "    best_n_i = [i for i, j in enumerate(n_scores) if j == max(n_scores)][0]\n",
    "    return n_range[best_n_i]"
   ]
  },
  {
   "cell_type": "code",
   "execution_count": 12,
   "metadata": {
    "collapsed": true
   },
   "outputs": [],
   "source": [
    "def knn(k, X_train, X_test, y_train, y_test, silence=False):\n",
    "    knn = KNeighborsClassifier(n_neighbors=k)\n",
    "    knn.fit(X_train, y_train)\n",
    "    y_pred = knn.predict(X_test)\n",
    "    accuracy = accuracy_score(y_test, y_pred)\n",
    "    if not silence:\n",
    "        print(\"\\nkNN accuracy: {:.3f}\".format(accuracy))\n",
    "        print(\"Number of correct preds: {} / {}\".format(np.sum(y_pred == y_test), len(y_test)))\n",
    "    return y_pred, accuracy"
   ]
  },
  {
   "cell_type": "code",
   "execution_count": 13,
   "metadata": {
    "collapsed": true
   },
   "outputs": [],
   "source": [
    "def svc(X_train, X_test, y_train, y_test):\n",
    "    C_range = 10. ** np.arange(3, 7)\n",
    "    gamma_range = 10. ** np.arange(-6, -1)\n",
    "    param_grid = dict(gamma=gamma_range, C=C_range)\n",
    "    clf = GridSearchCV(SVC(kernel='rbf', class_weight='balanced'), param_grid, verbose=2).fit(X_train, y_train)\n",
    "    y_pred = clf.predict(X_test_pca)\n",
    "    accuracy = accuracy_score(y_test, y_pred)\n",
    "    print(\"SVC accuracy: {:.3f}\".format(accuracy))\n",
    "    print(\"Number of correct preds: {} / {}\".format(np.sum(y_pred == y_test), len(y_test)))\n",
    "    return y_pred, accuracy"
   ]
  },
  {
   "cell_type": "markdown",
   "metadata": {},
   "source": [
    "### Finding best k for kNN classifier"
   ]
  },
  {
   "cell_type": "code",
   "execution_count": 14,
   "metadata": {
    "collapsed": false
   },
   "outputs": [
    {
     "name": "stdout",
     "output_type": "stream",
     "text": [
      "\n",
      "kNN accuracy: 0.927\n",
      "Number of correct preds: 1668 / 1800\n",
      "\n",
      "kNN accuracy: 0.934\n",
      "Number of correct preds: 1681 / 1800\n",
      "\n",
      "kNN accuracy: 0.936\n",
      "Number of correct preds: 1684 / 1800\n",
      "\n",
      "kNN accuracy: 0.936\n",
      "Number of correct preds: 1684 / 1800\n",
      "\n",
      "kNN accuracy: 0.933\n",
      "Number of correct preds: 1679 / 1800\n",
      "Best k for kNN: 5\n"
     ]
    },
    {
     "data": {
      "image/png": "[encoded data removed]",
      "text/plain": [
       "<matplotlib.figure.Figure at 0x114b30eb8>"
      ]
     },
     "metadata": {},
     "output_type": "display_data"
    }
   ],
   "source": [
    "'''\n",
    "Take the range of k-number for kNN\n",
    "'''\n",
    "k_range = range(1, 11, 2)\n",
    "\n",
    "scores = [knn(k, X_train, X_test, y_train, y_test)[1] for k in k_range]\n",
    "best_k = [k_range[i] for i, j in enumerate(scores) if j == max(scores)][0]\n",
    "\n",
    "print(\"Best k for kNN:\", best_k)\n",
    "plt.plot(k_range, scores)\n",
    "plt.xlabel(\"Value of K for KNN\")\n",
    "plt.ylabel(\"Testing accuracy\")\n",
    "plt.show()"
   ]
  },
  {
   "cell_type": "markdown",
   "metadata": {},
   "source": [
    "Here we see that kNN classifier with k=5 has good results"
   ]
  },
  {
   "cell_type": "code",
   "execution_count": 15,
   "metadata": {
    "collapsed": false
   },
   "outputs": [
    {
     "name": "stdout",
     "output_type": "stream",
     "text": [
      "Raw kNN classification\n",
      "\n",
      "kNN accuracy: 0.936\n",
      "Number of correct preds: 1684 / 1800\n"
     ]
    },
    {
     "data": {
      "text/plain": [
       "<matplotlib.axes._subplots.AxesSubplot at 0x114acaef0>"
      ]
     },
     "execution_count": 15,
     "metadata": {},
     "output_type": "execute_result"
    },
    {
     "data": {
      "image/png": "[encoded data removed]",
      "text/plain": [
       "<matplotlib.figure.Figure at 0x114b7b048>"
      ]
     },
     "metadata": {},
     "output_type": "display_data"
    }
   ],
   "source": [
    "print(\"Raw kNN classification\")\n",
    "results = knn(best_k, X_train, X_test, y_train, y_test)[0]\n",
    "sns.heatmap(confusion_matrix(results, y_test), cmap=\"Blues\", annot=True)"
   ]
  },
  {
   "cell_type": "markdown",
   "metadata": {},
   "source": [
    "### Fitting components for PCA"
   ]
  },
  {
   "cell_type": "code",
   "execution_count": 16,
   "metadata": {
    "collapsed": false
   },
   "outputs": [
    {
     "name": "stdout",
     "output_type": "stream",
     "text": [
      "Finding best n-component:\n",
      "\n",
      "Best n for n-components: 20\n"
     ]
    }
   ],
   "source": [
    "print(\"Finding best n-component:\")\n",
    "best_n_raw = best_pca(1, 21, 2, X_train, X_test, y_train, y_test)\n",
    "\n",
    "print(\"\\nBest n for n-components:\", best_n_raw)"
   ]
  },
  {
   "cell_type": "code",
   "execution_count": 17,
   "metadata": {
    "collapsed": false
   },
   "outputs": [
    {
     "name": "stdout",
     "output_type": "stream",
     "text": [
      "kNN classification with whiten PCA\n",
      "\n",
      "kNN accuracy: 0.948\n",
      "Number of correct preds: 1706 / 1800\n"
     ]
    },
    {
     "data": {
      "text/plain": [
       "<matplotlib.axes._subplots.AxesSubplot at 0x114b22dd8>"
      ]
     },
     "execution_count": 17,
     "metadata": {},
     "output_type": "execute_result"
    },
    {
     "data": {
      "image/png": "[encoded data removed]",
      "text/plain": [
       "<matplotlib.figure.Figure at 0x114a6ac50>"
      ]
     },
     "metadata": {},
     "output_type": "display_data"
    }
   ],
   "source": [
    "print(\"kNN classification with whiten PCA\")\n",
    "X_train_pca, X_test_pca = pca(best_n_raw, X_train, X_test)\n",
    "results = knn(best_k, X_train_pca, X_test_pca, y_train, y_test)[0]\n",
    "sns.heatmap(confusion_matrix(results, y_test), cmap=\"Blues\", annot=True)"
   ]
  },
  {
   "cell_type": "code",
   "execution_count": 18,
   "metadata": {
    "collapsed": false
   },
   "outputs": [
    {
     "name": "stdout",
     "output_type": "stream",
     "text": [
      "kNN classification with raw PCA\n",
      "\n",
      "kNN accuracy: 0.936\n",
      "Number of correct preds: 1684 / 1800\n"
     ]
    },
    {
     "data": {
      "text/plain": [
       "<matplotlib.axes._subplots.AxesSubplot at 0x1149cbba8>"
      ]
     },
     "execution_count": 18,
     "metadata": {},
     "output_type": "execute_result"
    },
    {
     "data": {
      "image/png": "[encoded data removed]",
      "text/plain": [
       "<matplotlib.figure.Figure at 0x1149fa390>"
      ]
     },
     "metadata": {},
     "output_type": "display_data"
    }
   ],
   "source": [
    "print(\"kNN classification with raw PCA\")\n",
    "X_train_pca, X_test_pca = pca(best_n_raw, X_train, X_test, whiten=False)\n",
    "results = knn(best_k, X_train_pca, X_test_pca, y_train, y_test)[0]\n",
    "sns.heatmap(confusion_matrix(results, y_test), cmap=\"Blues\", annot=True)"
   ]
  },
  {
   "cell_type": "code",
   "execution_count": 19,
   "metadata": {
    "collapsed": false
   },
   "outputs": [
    {
     "name": "stdout",
     "output_type": "stream",
     "text": [
      "Raw SV classification\n",
      "Fitting 3 folds for each of 20 candidates, totalling 60 fits\n",
      "[CV] C=1000.0, gamma=1e-06 ...........................................\n",
      "[CV] ............................ C=1000.0, gamma=1e-06, total=   0.8s\n",
      "[CV] C=1000.0, gamma=1e-06 ...........................................\n"
     ]
    },
    {
     "name": "stderr",
     "output_type": "stream",
     "text": [
      "[Parallel(n_jobs=1)]: Done   1 out of   1 | elapsed:    1.2s remaining:    0.0s\n"
     ]
    },
    {
     "name": "stdout",
     "output_type": "stream",
     "text": [
      "[CV] ............................ C=1000.0, gamma=1e-06, total=   0.9s\n",
      "[CV] C=1000.0, gamma=1e-06 ...........................................\n",
      "[CV] ............................ C=1000.0, gamma=1e-06, total=   0.9s\n",
      "[CV] C=1000.0, gamma=1e-05 ...........................................\n",
      "[CV] ............................ C=1000.0, gamma=1e-05, total=   0.6s\n",
      "[CV] C=1000.0, gamma=1e-05 ...........................................\n",
      "[CV] ............................ C=1000.0, gamma=1e-05, total=   0.6s\n",
      "[CV] C=1000.0, gamma=1e-05 ...........................................\n",
      "[CV] ............................ C=1000.0, gamma=1e-05, total=   0.6s\n",
      "[CV] C=1000.0, gamma=0.0001 ..........................................\n",
      "[CV] ........................... C=1000.0, gamma=0.0001, total=   0.3s\n",
      "[CV] C=1000.0, gamma=0.0001 ..........................................\n",
      "[CV] ........................... C=1000.0, gamma=0.0001, total=   0.4s\n",
      "[CV] C=1000.0, gamma=0.0001 ..........................................\n",
      "[CV] ........................... C=1000.0, gamma=0.0001, total=   0.3s\n",
      "[CV] C=1000.0, gamma=0.001 ...........................................\n",
      "[CV] ............................ C=1000.0, gamma=0.001, total=   0.2s\n",
      "[CV] C=1000.0, gamma=0.001 ...........................................\n",
      "[CV] ............................ C=1000.0, gamma=0.001, total=   0.2s\n",
      "[CV] C=1000.0, gamma=0.001 ...........................................\n",
      "[CV] ............................ C=1000.0, gamma=0.001, total=   0.2s\n",
      "[CV] C=1000.0, gamma=0.01 ............................................\n",
      "[CV] ............................. C=1000.0, gamma=0.01, total=   0.1s\n",
      "[CV] C=1000.0, gamma=0.01 ............................................\n",
      "[CV] ............................. C=1000.0, gamma=0.01, total=   0.1s\n",
      "[CV] C=1000.0, gamma=0.01 ............................................\n",
      "[CV] ............................. C=1000.0, gamma=0.01, total=   0.1s\n",
      "[CV] C=10000.0, gamma=1e-06 ..........................................\n",
      "[CV] ........................... C=10000.0, gamma=1e-06, total=   0.6s\n",
      "[CV] C=10000.0, gamma=1e-06 ..........................................\n",
      "[CV] ........................... C=10000.0, gamma=1e-06, total=   0.6s\n",
      "[CV] C=10000.0, gamma=1e-06 ..........................................\n",
      "[CV] ........................... C=10000.0, gamma=1e-06, total=   0.6s\n",
      "[CV] C=10000.0, gamma=1e-05 ..........................................\n",
      "[CV] ........................... C=10000.0, gamma=1e-05, total=   0.3s\n",
      "[CV] C=10000.0, gamma=1e-05 ..........................................\n",
      "[CV] ........................... C=10000.0, gamma=1e-05, total=   0.4s\n",
      "[CV] C=10000.0, gamma=1e-05 ..........................................\n",
      "[CV] ........................... C=10000.0, gamma=1e-05, total=   0.3s\n",
      "[CV] C=10000.0, gamma=0.0001 .........................................\n",
      "[CV] .......................... C=10000.0, gamma=0.0001, total=   0.2s\n",
      "[CV] C=10000.0, gamma=0.0001 .........................................\n",
      "[CV] .......................... C=10000.0, gamma=0.0001, total=   0.2s\n",
      "[CV] C=10000.0, gamma=0.0001 .........................................\n",
      "[CV] .......................... C=10000.0, gamma=0.0001, total=   0.2s\n",
      "[CV] C=10000.0, gamma=0.001 ..........................................\n",
      "[CV] ........................... C=10000.0, gamma=0.001, total=   0.2s\n",
      "[CV] C=10000.0, gamma=0.001 ..........................................\n",
      "[CV] ........................... C=10000.0, gamma=0.001, total=   0.2s\n",
      "[CV] C=10000.0, gamma=0.001 ..........................................\n",
      "[CV] ........................... C=10000.0, gamma=0.001, total=   0.2s\n",
      "[CV] C=10000.0, gamma=0.01 ...........................................\n",
      "[CV] ............................ C=10000.0, gamma=0.01, total=   0.2s\n",
      "[CV] C=10000.0, gamma=0.01 ...........................................\n",
      "[CV] ............................ C=10000.0, gamma=0.01, total=   0.2s\n",
      "[CV] C=10000.0, gamma=0.01 ...........................................\n",
      "[CV] ............................ C=10000.0, gamma=0.01, total=   0.2s\n",
      "[CV] C=100000.0, gamma=1e-06 .........................................\n",
      "[CV] .......................... C=100000.0, gamma=1e-06, total=   0.4s\n",
      "[CV] C=100000.0, gamma=1e-06 .........................................\n",
      "[CV] .......................... C=100000.0, gamma=1e-06, total=   0.4s\n",
      "[CV] C=100000.0, gamma=1e-06 .........................................\n",
      "[CV] .......................... C=100000.0, gamma=1e-06, total=   0.3s\n",
      "[CV] C=100000.0, gamma=1e-05 .........................................\n",
      "[CV] .......................... C=100000.0, gamma=1e-05, total=   0.2s\n",
      "[CV] C=100000.0, gamma=1e-05 .........................................\n",
      "[CV] .......................... C=100000.0, gamma=1e-05, total=   0.2s\n",
      "[CV] C=100000.0, gamma=1e-05 .........................................\n",
      "[CV] .......................... C=100000.0, gamma=1e-05, total=   0.2s\n",
      "[CV] C=100000.0, gamma=0.0001 ........................................\n",
      "[CV] ......................... C=100000.0, gamma=0.0001, total=   0.2s\n",
      "[CV] C=100000.0, gamma=0.0001 ........................................\n",
      "[CV] ......................... C=100000.0, gamma=0.0001, total=   0.3s\n",
      "[CV] C=100000.0, gamma=0.0001 ........................................\n",
      "[CV] ......................... C=100000.0, gamma=0.0001, total=   0.2s\n",
      "[CV] C=100000.0, gamma=0.001 .........................................\n",
      "[CV] .......................... C=100000.0, gamma=0.001, total=   0.5s\n",
      "[CV] C=100000.0, gamma=0.001 .........................................\n",
      "[CV] .......................... C=100000.0, gamma=0.001, total=   0.7s\n",
      "[CV] C=100000.0, gamma=0.001 .........................................\n",
      "[CV] .......................... C=100000.0, gamma=0.001, total=   0.4s\n",
      "[CV] C=100000.0, gamma=0.01 ..........................................\n",
      "[CV] ........................... C=100000.0, gamma=0.01, total=   0.3s\n",
      "[CV] C=100000.0, gamma=0.01 ..........................................\n",
      "[CV] ........................... C=100000.0, gamma=0.01, total=   0.5s\n",
      "[CV] C=100000.0, gamma=0.01 ..........................................\n",
      "[CV] ........................... C=100000.0, gamma=0.01, total=   0.5s\n",
      "[CV] C=1000000.0, gamma=1e-06 ........................................\n",
      "[CV] ......................... C=1000000.0, gamma=1e-06, total=   0.2s\n",
      "[CV] C=1000000.0, gamma=1e-06 ........................................\n",
      "[CV] ......................... C=1000000.0, gamma=1e-06, total=   0.2s\n",
      "[CV] C=1000000.0, gamma=1e-06 ........................................\n",
      "[CV] ......................... C=1000000.0, gamma=1e-06, total=   0.2s\n",
      "[CV] C=1000000.0, gamma=1e-05 ........................................\n",
      "[CV] ......................... C=1000000.0, gamma=1e-05, total=   0.3s\n",
      "[CV] C=1000000.0, gamma=1e-05 ........................................\n",
      "[CV] ......................... C=1000000.0, gamma=1e-05, total=   0.4s\n",
      "[CV] C=1000000.0, gamma=1e-05 ........................................\n",
      "[CV] ......................... C=1000000.0, gamma=1e-05, total=   0.4s\n",
      "[CV] C=1000000.0, gamma=0.0001 .......................................\n",
      "[CV] ........................ C=1000000.0, gamma=0.0001, total=   0.6s\n",
      "[CV] C=1000000.0, gamma=0.0001 .......................................\n",
      "[CV] ........................ C=1000000.0, gamma=0.0001, total=   0.7s\n",
      "[CV] C=1000000.0, gamma=0.0001 .......................................\n",
      "[CV] ........................ C=1000000.0, gamma=0.0001, total=   0.5s\n",
      "[CV] C=1000000.0, gamma=0.001 ........................................\n",
      "[CV] ......................... C=1000000.0, gamma=0.001, total=   1.4s\n",
      "[CV] C=1000000.0, gamma=0.001 ........................................\n",
      "[CV] ......................... C=1000000.0, gamma=0.001, total=   1.6s\n",
      "[CV] C=1000000.0, gamma=0.001 ........................................\n",
      "[CV] ......................... C=1000000.0, gamma=0.001, total=   1.9s\n",
      "[CV] C=1000000.0, gamma=0.01 .........................................\n",
      "[CV] .......................... C=1000000.0, gamma=0.01, total=   0.6s\n",
      "[CV] C=1000000.0, gamma=0.01 .........................................\n",
      "[CV] .......................... C=1000000.0, gamma=0.01, total=   1.2s\n",
      "[CV] C=1000000.0, gamma=0.01 .........................................\n",
      "[CV] .......................... C=1000000.0, gamma=0.01, total=   1.9s\n"
     ]
    },
    {
     "name": "stderr",
     "output_type": "stream",
     "text": [
      "[Parallel(n_jobs=1)]: Done  60 out of  60 | elapsed:   33.6s finished\n"
     ]
    },
    {
     "name": "stdout",
     "output_type": "stream",
     "text": [
      "SVC accuracy: 0.982\n",
      "Number of correct preds: 1767 / 1800\n"
     ]
    },
    {
     "data": {
      "text/plain": [
       "<matplotlib.axes._subplots.AxesSubplot at 0x1149b0a90>"
      ]
     },
     "execution_count": 19,
     "metadata": {},
     "output_type": "execute_result"
    },
    {
     "data": {
      "image/png": "[encoded data removed]",
      "text/plain": [
       "<matplotlib.figure.Figure at 0x114aebe10>"
      ]
     },
     "metadata": {},
     "output_type": "display_data"
    }
   ],
   "source": [
    "print(\"Raw SV classification\")\n",
    "X_train_pca, X_test_pca = pca(best_n_raw, X_train, X_test)\n",
    "results = svc(X_train_pca, X_test_pca, y_train, y_test)[0]\n",
    "sns.heatmap(confusion_matrix(results, y_test), cmap=\"Blues\", annot=True)"
   ]
  },
  {
   "cell_type": "code",
   "execution_count": 20,
   "metadata": {
    "collapsed": false
   },
   "outputs": [
    {
     "name": "stdout",
     "output_type": "stream",
     "text": [
      "             precision    recall  f1-score   support\n",
      "\n",
      "          1       0.83      0.84      0.84        45\n",
      "          2       0.90      0.88      0.89        94\n",
      "          3       0.99      0.99      0.99      1661\n",
      "\n",
      "avg / total       0.98      0.98      0.98      1800\n",
      "\n"
     ]
    }
   ],
   "source": [
    "print(classification_report(results, y_test))"
   ]
  },
  {
   "cell_type": "code",
   "execution_count": 21,
   "metadata": {
    "collapsed": false
   },
   "outputs": [
    {
     "data": {
      "text/plain": [
       "0.9061030112644958"
      ]
     },
     "execution_count": 21,
     "metadata": {},
     "output_type": "execute_result"
    }
   ],
   "source": [
    "f1_score(results, y_test, average='macro')"
   ]
  },
  {
   "cell_type": "code",
   "execution_count": 22,
   "metadata": {
    "collapsed": false
   },
   "outputs": [
    {
     "data": {
      "text/plain": [
       "0.9816553084225125"
      ]
     },
     "execution_count": 22,
     "metadata": {},
     "output_type": "execute_result"
    }
   ],
   "source": [
    "f1_score(results, y_test, average='weighted')"
   ]
  },
  {
   "cell_type": "code",
   "execution_count": 23,
   "metadata": {
    "collapsed": false
   },
   "outputs": [
    {
     "data": {
      "text/plain": [
       "0.9816666666666667"
      ]
     },
     "execution_count": 23,
     "metadata": {},
     "output_type": "execute_result"
    }
   ],
   "source": [
    "f1_score(results, y_test, average='micro')"
   ]
  },
  {
   "cell_type": "code",
   "execution_count": 24,
   "metadata": {
    "collapsed": true
   },
   "outputs": [],
   "source": [
    "from sklearn.naive_bayes import GaussianNB\n",
    "from sklearn.ensemble import RandomForestClassifier, VotingClassifier"
   ]
  },
  {
   "cell_type": "code",
   "execution_count": 25,
   "metadata": {
    "collapsed": true
   },
   "outputs": [],
   "source": [
    "C_range = 10. ** np.arange(3, 7)\n",
    "gamma_range = 10. ** np.arange(-6, -1)\n",
    "param_grid = dict(gamma=gamma_range, C=C_range)\n",
    "clf1 = GridSearchCV(SVC(kernel='rbf', class_weight='balanced'), param_grid)\n",
    "clf2 = RandomForestClassifier(random_state=1)\n",
    "clf3 = GaussianNB()\n",
    "clf4 = KNeighborsClassifier(n_neighbors=best_k)\n",
    "clf5 = LogisticRegression()"
   ]
  },
  {
   "cell_type": "code",
   "execution_count": 26,
   "metadata": {
    "collapsed": true
   },
   "outputs": [],
   "source": [
    "eclf1 = VotingClassifier(estimators=[('sv', clf1), ('rf', clf2), ('gnb', clf3), ('kn', clf4), ('lr', clf5)], voting='hard')\n",
    "eclf1 = eclf1.fit(X_train, y_train)"
   ]
  },
  {
   "cell_type": "code",
   "execution_count": 27,
   "metadata": {
    "collapsed": false
   },
   "outputs": [
    {
     "name": "stderr",
     "output_type": "stream",
     "text": [
      "/Users/dosya/Projects/lab_iis/jupyter/lib/python3.6/site-packages/sklearn/preprocessing/label.py:151: DeprecationWarning: The truth value of an empty array is ambiguous. Returning False, but in future this will result in an error. Use `array.size > 0` to check that an array is not empty.\n",
      "  if diff:\n"
     ]
    },
    {
     "data": {
      "text/plain": [
       "<matplotlib.axes._subplots.AxesSubplot at 0x116716940>"
      ]
     },
     "execution_count": 27,
     "metadata": {},
     "output_type": "execute_result"
    },
    {
     "data": {
      "image/png": "[encoded data removed]",
      "text/plain": [
       "<matplotlib.figure.Figure at 0x11670dc88>"
      ]
     },
     "metadata": {},
     "output_type": "display_data"
    }
   ],
   "source": [
    "y_pred = eclf1.predict(X_test)\n",
    "sns.heatmap(confusion_matrix(y_pred, y_test), cmap=\"Blues\", annot=True)"
   ]
  },
  {
   "cell_type": "code",
   "execution_count": 28,
   "metadata": {
    "collapsed": false
   },
   "outputs": [
    {
     "data": {
      "text/plain": [
       "0.9285679639049843"
      ]
     },
     "execution_count": 28,
     "metadata": {},
     "output_type": "execute_result"
    }
   ],
   "source": [
    "f1_score(y_pred, y_test, average='macro')"
   ]
  },
  {
   "cell_type": "code",
   "execution_count": 29,
   "metadata": {
    "collapsed": false
   },
   "outputs": [
    {
     "name": "stdout",
     "output_type": "stream",
     "text": [
      "             precision    recall  f1-score   support\n",
      "\n",
      "          1       0.87      0.83      0.85        48\n",
      "          2       0.91      0.97      0.94        87\n",
      "          3       1.00      1.00      1.00      1665\n",
      "\n",
      "avg / total       0.99      0.99      0.99      1800\n",
      "\n"
     ]
    }
   ],
   "source": [
    "print(classification_report(y_pred, y_test))"
   ]
  },
  {
   "cell_type": "code",
   "execution_count": 33,
   "metadata": {
    "collapsed": false
   },
   "outputs": [
    {
     "data": {
      "text/plain": [
       "0.9894444444444445"
      ]
     },
     "execution_count": 33,
     "metadata": {},
     "output_type": "execute_result"
    }
   ],
   "source": [
    "accuracy_score(y_pred, y_test)"
   ]
  }
 ],
 "metadata": {
  "anaconda-cloud": {},
  "kernelspec": {
   "display_name": "Python [default]",
   "language": "python",
   "name": "python3"
  },
  "language_info": {
   "codemirror_mode": {
    "name": "ipython",
    "version": 3
   },
   "file_extension": ".py",
   "mimetype": "text/x-python",
   "name": "python",
   "nbconvert_exporter": "python",
   "pygments_lexer": "ipython3",
   "version": "3.5.2"
  }
 },
 "nbformat": 4,
 "nbformat_minor": 2
}
