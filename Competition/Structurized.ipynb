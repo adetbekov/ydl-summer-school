{
 "cells": [
  {
   "cell_type": "markdown",
   "metadata": {},
   "source": [
    "# Imports"
   ]
  },
  {
   "cell_type": "code",
   "execution_count": 3,
   "metadata": {
    "ExecuteTime": {
     "end_time": "2018-07-21T16:14:36.801574Z",
     "start_time": "2018-07-21T16:14:36.791565Z"
    },
    "collapsed": true
   },
   "outputs": [],
   "source": [
    "import matplotlib.pyplot as plt\n",
    "import seaborn as sns\n",
    "import numpy as np\n",
    "import pandas as pd\n",
    "%matplotlib inline"
   ]
  },
  {
   "cell_type": "code",
   "execution_count": 4,
   "metadata": {
    "ExecuteTime": {
     "end_time": "2018-07-21T16:14:37.108756Z",
     "start_time": "2018-07-21T16:14:37.103751Z"
    },
    "collapsed": true
   },
   "outputs": [],
   "source": [
    "from sklearn.model_selection import train_test_split\n",
    "from sklearn.metrics import mean_squared_error\n",
    "from sklearn.model_selection import GridSearchCV"
   ]
  },
  {
   "cell_type": "code",
   "execution_count": 5,
   "metadata": {
    "ExecuteTime": {
     "end_time": "2018-07-21T16:14:37.443322Z",
     "start_time": "2018-07-21T16:14:37.399273Z"
    },
    "collapsed": true
   },
   "outputs": [],
   "source": [
    "from sklearn.linear_model import HuberRegressor\n",
    "from sklearn.ensemble import RandomForestRegressor\n",
    "from sklearn.linear_model import LinearRegression, Ridge, LassoLars\n",
    "from sklearn.ensemble import GradientBoostingRegressor\n",
    "from sklearn.ensemble import BaggingRegressor"
   ]
  },
  {
   "cell_type": "code",
   "execution_count": 11,
   "metadata": {
    "ExecuteTime": {
     "end_time": "2018-07-21T16:16:55.570722Z",
     "start_time": "2018-07-21T16:16:55.555120Z"
    },
    "collapsed": true
   },
   "outputs": [],
   "source": [
    "rs = 101 # random state"
   ]
  },
  {
   "cell_type": "markdown",
   "metadata": {},
   "source": [
    "# Data Load"
   ]
  },
  {
   "cell_type": "code",
   "execution_count": 7,
   "metadata": {
    "ExecuteTime": {
     "end_time": "2018-07-21T16:15:23.781969Z",
     "start_time": "2018-07-21T16:15:23.706070Z"
    },
    "collapsed": true
   },
   "outputs": [],
   "source": [
    "train = pd.read_csv('train (1).csv')\n",
    "test = pd.read_csv('test (1).csv')"
   ]
  },
  {
   "cell_type": "code",
   "execution_count": 9,
   "metadata": {
    "ExecuteTime": {
     "end_time": "2018-07-21T16:15:59.970163Z",
     "start_time": "2018-07-21T16:15:59.954557Z"
    }
   },
   "outputs": [],
   "source": [
    "X = train.drop(['radius','id'],axis=1)\n",
    "y = train.radius"
   ]
  },
  {
   "cell_type": "markdown",
   "metadata": {},
   "source": [
    "# Trying different models"
   ]
  },
  {
   "cell_type": "code",
   "execution_count": 12,
   "metadata": {
    "ExecuteTime": {
     "end_time": "2018-07-21T16:17:26.718000Z",
     "start_time": "2018-07-21T16:17:26.710995Z"
    }
   },
   "outputs": [],
   "source": [
    "X_train, X_test, y_train, y_test = train_test_split(X,y,test_size=0.25,\n",
    "                                                   random_state=rs)"
   ]
  },
  {
   "cell_type": "markdown",
   "metadata": {},
   "source": [
    "## Linear Regression"
   ]
  },
  {
   "cell_type": "code",
   "execution_count": 13,
   "metadata": {
    "ExecuteTime": {
     "end_time": "2018-07-21T16:18:10.129886Z",
     "start_time": "2018-07-21T16:18:10.125882Z"
    },
    "collapsed": true
   },
   "outputs": [],
   "source": [
    "lr = LinearRegression(n_jobs=-1)"
   ]
  },
  {
   "cell_type": "code",
   "execution_count": 14,
   "metadata": {
    "ExecuteTime": {
     "end_time": "2018-07-21T16:18:22.335670Z",
     "start_time": "2018-07-21T16:18:21.741758Z"
    }
   },
   "outputs": [
    {
     "data": {
      "text/plain": [
       "LinearRegression(copy_X=True, fit_intercept=True, n_jobs=-1, normalize=False)"
      ]
     },
     "execution_count": 14,
     "metadata": {},
     "output_type": "execute_result"
    }
   ],
   "source": [
    "lr.fit(X_train, y_train)"
   ]
  },
  {
   "cell_type": "code",
   "execution_count": 15,
   "metadata": {
    "ExecuteTime": {
     "end_time": "2018-07-21T16:18:51.805004Z",
     "start_time": "2018-07-21T16:18:51.791007Z"
    }
   },
   "outputs": [
    {
     "name": "stdout",
     "output_type": "stream",
     "text": [
      "0.216593376451\n"
     ]
    }
   ],
   "source": [
    "y_pred_lr = lr.predict(X_test)\n",
    "print(np.sqrt(mean_squared_error(y_test, y_pred_lr)))"
   ]
  },
  {
   "cell_type": "markdown",
   "metadata": {},
   "source": [
    "## Ridge"
   ]
  },
  {
   "cell_type": "code",
   "execution_count": 16,
   "metadata": {
    "ExecuteTime": {
     "end_time": "2018-07-21T16:19:17.528826Z",
     "start_time": "2018-07-21T16:19:17.525824Z"
    },
    "collapsed": true
   },
   "outputs": [],
   "source": [
    "rg = Ridge()"
   ]
  },
  {
   "cell_type": "code",
   "execution_count": 17,
   "metadata": {
    "ExecuteTime": {
     "end_time": "2018-07-21T16:19:28.678797Z",
     "start_time": "2018-07-21T16:19:28.217507Z"
    }
   },
   "outputs": [
    {
     "data": {
      "text/plain": [
       "Ridge(alpha=1.0, copy_X=True, fit_intercept=True, max_iter=None,\n",
       "   normalize=False, random_state=None, solver='auto', tol=0.001)"
      ]
     },
     "execution_count": 17,
     "metadata": {},
     "output_type": "execute_result"
    }
   ],
   "source": [
    "rg.fit(X_train, y_train)"
   ]
  },
  {
   "cell_type": "code",
   "execution_count": 18,
   "metadata": {
    "ExecuteTime": {
     "end_time": "2018-07-21T16:19:41.399872Z",
     "start_time": "2018-07-21T16:19:41.391866Z"
    }
   },
   "outputs": [
    {
     "name": "stdout",
     "output_type": "stream",
     "text": [
      "0.216593376452\n"
     ]
    }
   ],
   "source": [
    "y_pred_rg = rg.predict(X_test)\n",
    "print(np.sqrt(mean_squared_error(y_test, y_pred_rg)))"
   ]
  },
  {
   "cell_type": "markdown",
   "metadata": {},
   "source": [
    "### Parametrization for Ridge"
   ]
  },
  {
   "cell_type": "code",
   "execution_count": 31,
   "metadata": {
    "ExecuteTime": {
     "end_time": "2018-07-21T16:25:06.610907Z",
     "start_time": "2018-07-21T16:25:06.606908Z"
    },
    "collapsed": true
   },
   "outputs": [],
   "source": [
    "rg1 = Ridge(alpha=0.05, copy_X=True, fit_intercept=True, max_iter=None,\n",
    "   normalize=False, random_state=101, solver='auto', tol=0.001)"
   ]
  },
  {
   "cell_type": "code",
   "execution_count": 32,
   "metadata": {
    "ExecuteTime": {
     "end_time": "2018-07-21T16:25:06.834065Z",
     "start_time": "2018-07-21T16:25:06.822056Z"
    }
   },
   "outputs": [
    {
     "data": {
      "text/plain": [
       "Ridge(alpha=1.0, copy_X=True, fit_intercept=True, max_iter=None,\n",
       "   normalize=False, random_state=None, solver='auto', tol=0.001)"
      ]
     },
     "execution_count": 32,
     "metadata": {},
     "output_type": "execute_result"
    }
   ],
   "source": [
    "rg.fit(X_train, y_train)"
   ]
  },
  {
   "cell_type": "code",
   "execution_count": 33,
   "metadata": {
    "ExecuteTime": {
     "end_time": "2018-07-21T16:25:07.013191Z",
     "start_time": "2018-07-21T16:25:07.006186Z"
    }
   },
   "outputs": [
    {
     "name": "stdout",
     "output_type": "stream",
     "text": [
      "0.216593376452\n"
     ]
    }
   ],
   "source": [
    "y_pred_rg = rg.predict(X_test)\n",
    "print(np.sqrt(mean_squared_error(y_test, y_pred_rg)))"
   ]
  },
  {
   "cell_type": "markdown",
   "metadata": {},
   "source": [
    "## LassoLars"
   ]
  },
  {
   "cell_type": "code",
   "execution_count": 37,
   "metadata": {
    "ExecuteTime": {
     "end_time": "2018-07-21T16:26:39.360125Z",
     "start_time": "2018-07-21T16:26:39.356139Z"
    },
    "collapsed": true
   },
   "outputs": [],
   "source": [
    "ll = LassoLars(alpha=0.5)"
   ]
  },
  {
   "cell_type": "code",
   "execution_count": 38,
   "metadata": {
    "ExecuteTime": {
     "end_time": "2018-07-21T16:26:39.599465Z",
     "start_time": "2018-07-21T16:26:39.588456Z"
    }
   },
   "outputs": [
    {
     "data": {
      "text/plain": [
       "LassoLars(alpha=0.5, copy_X=True, eps=2.2204460492503131e-16,\n",
       "     fit_intercept=True, fit_path=True, max_iter=500, normalize=True,\n",
       "     positive=False, precompute='auto', verbose=False)"
      ]
     },
     "execution_count": 38,
     "metadata": {},
     "output_type": "execute_result"
    }
   ],
   "source": [
    "ll.fit(X_train, y_train)"
   ]
  },
  {
   "cell_type": "code",
   "execution_count": 39,
   "metadata": {
    "ExecuteTime": {
     "end_time": "2018-07-21T16:26:39.777590Z",
     "start_time": "2018-07-21T16:26:39.771586Z"
    }
   },
   "outputs": [
    {
     "name": "stdout",
     "output_type": "stream",
     "text": [
      "0.217256986367\n"
     ]
    }
   ],
   "source": [
    "y_pred_ll = ll.predict(X_test)\n",
    "print(np.sqrt(mean_squared_error(y_test, y_pred_ll)))"
   ]
  },
  {
   "cell_type": "markdown",
   "metadata": {},
   "source": [
    "## RandomForestRegressor"
   ]
  },
  {
   "cell_type": "code",
   "execution_count": 46,
   "metadata": {
    "ExecuteTime": {
     "end_time": "2018-07-21T16:31:39.271017Z",
     "start_time": "2018-07-21T16:31:39.267014Z"
    },
    "collapsed": true
   },
   "outputs": [],
   "source": [
    "rf = RandomForestRegressor(random_state=rs, n_jobs=-1)"
   ]
  },
  {
   "cell_type": "code",
   "execution_count": 47,
   "metadata": {
    "ExecuteTime": {
     "end_time": "2018-07-21T16:31:39.738914Z",
     "start_time": "2018-07-21T16:31:39.451072Z"
    }
   },
   "outputs": [
    {
     "data": {
      "text/plain": [
       "RandomForestRegressor(bootstrap=True, criterion='mse', max_depth=None,\n",
       "           max_features='auto', max_leaf_nodes=None,\n",
       "           min_impurity_decrease=0.0, min_impurity_split=None,\n",
       "           min_samples_leaf=1, min_samples_split=2,\n",
       "           min_weight_fraction_leaf=0.0, n_estimators=10, n_jobs=-1,\n",
       "           oob_score=False, random_state=101, verbose=0, warm_start=False)"
      ]
     },
     "execution_count": 47,
     "metadata": {},
     "output_type": "execute_result"
    }
   ],
   "source": [
    "rf.fit(X_train,y_train)"
   ]
  },
  {
   "cell_type": "code",
   "execution_count": 48,
   "metadata": {
    "ExecuteTime": {
     "end_time": "2018-07-21T16:31:40.231362Z",
     "start_time": "2018-07-21T16:31:40.122973Z"
    }
   },
   "outputs": [
    {
     "name": "stdout",
     "output_type": "stream",
     "text": [
      "0.139710745281\n"
     ]
    }
   ],
   "source": [
    "y_pred_rf = rf.predict(X_test)\n",
    "print(np.sqrt(mean_squared_error(y_test, y_pred_rf)))"
   ]
  },
  {
   "cell_type": "markdown",
   "metadata": {},
   "source": [
    "### GridSearchCV for RFR"
   ]
  },
  {
   "cell_type": "code",
   "execution_count": 49,
   "metadata": {
    "ExecuteTime": {
     "end_time": "2018-07-21T16:32:05.504485Z",
     "start_time": "2018-07-21T16:32:05.483909Z"
    },
    "collapsed": true
   },
   "outputs": [],
   "source": [
    "params = {'n_estimators': [10,100,250,500,1000],\n",
    "          'min_samples_split': [2,3,4],\n",
    "          'max_features': [0.5,0.6,0.7,0.8,0.9,1],\n",
    "          'bootstrap': [True,False]\n",
    "}"
   ]
  },
  {
   "cell_type": "code",
   "execution_count": 50,
   "metadata": {
    "ExecuteTime": {
     "end_time": "2018-07-21T16:32:49.129888Z",
     "start_time": "2018-07-21T16:32:49.124885Z"
    },
    "collapsed": true
   },
   "outputs": [],
   "source": [
    "clf = GridSearchCV(estimator=rf, param_grid=params, \n",
    "                   n_jobs=-1, cv=3, scoring=\"mean_squared_error\", \n",
    "                   verbose=1)"
   ]
  },
  {
   "cell_type": "code",
   "execution_count": 51,
   "metadata": {
    "ExecuteTime": {
     "end_time": "2018-07-21T16:40:04.015424Z",
     "start_time": "2018-07-21T16:32:59.699800Z"
    }
   },
   "outputs": [
    {
     "name": "stdout",
     "output_type": "stream",
     "text": [
      "Fitting 3 folds for each of 180 candidates, totalling 540 fits\n"
     ]
    },
    {
     "name": "stderr",
     "output_type": "stream",
     "text": [
      "[Parallel(n_jobs=-1)]: Done  42 tasks      | elapsed:   29.8s\n",
      "[Parallel(n_jobs=-1)]: Done 192 tasks      | elapsed:  2.1min\n",
      "[Parallel(n_jobs=-1)]: Done 442 tasks      | elapsed:  5.5min\n",
      "[Parallel(n_jobs=-1)]: Done 540 out of 540 | elapsed:  7.0min finished\n"
     ]
    },
    {
     "data": {
      "text/plain": [
       "GridSearchCV(cv=3, error_score='raise',\n",
       "       estimator=RandomForestRegressor(bootstrap=True, criterion='mse', max_depth=None,\n",
       "           max_features='auto', max_leaf_nodes=None,\n",
       "           min_impurity_decrease=0.0, min_impurity_split=None,\n",
       "           min_samples_leaf=1, min_samples_split=2,\n",
       "           min_weight_fraction_leaf=0.0, n_estimators=10, n_jobs=-1,\n",
       "           oob_score=False, random_state=101, verbose=0, warm_start=False),\n",
       "       fit_params=None, iid=True, n_jobs=-1,\n",
       "       param_grid={'n_estimators': [10, 100, 250, 500, 1000], 'min_samples_split': [2, 3, 4], 'max_features': [0.5, 0.6, 0.7, 0.8, 0.9, 1], 'bootstrap': [True, False]},\n",
       "       pre_dispatch='2*n_jobs', refit=True, return_train_score='warn',\n",
       "       scoring='mean_squared_error', verbose=1)"
      ]
     },
     "execution_count": 51,
     "metadata": {},
     "output_type": "execute_result"
    }
   ],
   "source": [
    "clf.fit(X_train, y_train)"
   ]
  },
  {
   "cell_type": "code",
   "execution_count": 52,
   "metadata": {
    "ExecuteTime": {
     "end_time": "2018-07-21T16:40:11.205705Z",
     "start_time": "2018-07-21T16:40:11.096631Z"
    }
   },
   "outputs": [
    {
     "name": "stdout",
     "output_type": "stream",
     "text": [
      "0.131715610499\n"
     ]
    }
   ],
   "source": [
    "y_pred_gsrf = clf.predict(X_test)\n",
    "print(np.sqrt(mean_squared_error(y_test, y_pred_gsrf)))"
   ]
  },
  {
   "cell_type": "code",
   "execution_count": 62,
   "metadata": {
    "ExecuteTime": {
     "end_time": "2018-07-21T16:44:19.755771Z",
     "start_time": "2018-07-21T16:44:19.737126Z"
    }
   },
   "outputs": [
    {
     "data": {
      "text/plain": [
       "{'bootstrap': True,\n",
       " 'max_features': 0.7,\n",
       " 'min_samples_split': 4,\n",
       " 'n_estimators': 500}"
      ]
     },
     "execution_count": 62,
     "metadata": {},
     "output_type": "execute_result"
    }
   ],
   "source": []
  },
  {
   "cell_type": "markdown",
   "metadata": {},
   "source": [
    "## GradientBoostingRegressor"
   ]
  },
  {
   "cell_type": "code",
   "execution_count": 59,
   "metadata": {
    "ExecuteTime": {
     "end_time": "2018-07-21T16:42:28.490439Z",
     "start_time": "2018-07-21T16:42:28.486436Z"
    },
    "collapsed": true
   },
   "outputs": [],
   "source": [
    "gbr = GradientBoostingRegressor(random_state=rs,criterion='mse')"
   ]
  },
  {
   "cell_type": "code",
   "execution_count": 60,
   "metadata": {
    "ExecuteTime": {
     "end_time": "2018-07-21T16:42:29.231085Z",
     "start_time": "2018-07-21T16:42:29.127766Z"
    }
   },
   "outputs": [
    {
     "data": {
      "text/plain": [
       "GradientBoostingRegressor(alpha=0.9, criterion='mse', init=None,\n",
       "             learning_rate=0.1, loss='ls', max_depth=3, max_features=None,\n",
       "             max_leaf_nodes=None, min_impurity_decrease=0.0,\n",
       "             min_impurity_split=None, min_samples_leaf=1,\n",
       "             min_samples_split=2, min_weight_fraction_leaf=0.0,\n",
       "             n_estimators=100, presort='auto', random_state=101,\n",
       "             subsample=1.0, verbose=0, warm_start=False)"
      ]
     },
     "execution_count": 60,
     "metadata": {},
     "output_type": "execute_result"
    }
   ],
   "source": [
    "gbr.fit(X_train, y_train)"
   ]
  },
  {
   "cell_type": "code",
   "execution_count": 61,
   "metadata": {
    "ExecuteTime": {
     "end_time": "2018-07-21T16:42:30.983391Z",
     "start_time": "2018-07-21T16:42:30.964753Z"
    }
   },
   "outputs": [
    {
     "name": "stdout",
     "output_type": "stream",
     "text": [
      "0.160707780698\n"
     ]
    }
   ],
   "source": [
    "y_pred_gbr = gbr.predict(X_test)\n",
    "print(np.sqrt(mean_squared_error(y_test, y_pred_gbr)))"
   ]
  },
  {
   "cell_type": "markdown",
   "metadata": {},
   "source": [
    "### GridSearch for GBR"
   ]
  },
  {
   "cell_type": "code",
   "execution_count": 72,
   "metadata": {
    "ExecuteTime": {
     "end_time": "2018-07-21T16:54:35.305028Z",
     "start_time": "2018-07-21T16:54:35.300026Z"
    }
   },
   "outputs": [],
   "source": [
    "params = {'loss':['ls','huber'],\n",
    "          'n_estimators': [100,500],\n",
    "          'min_samples_split': [2,4,6],\n",
    "          'max_features': [0.7,0.9,1],\n",
    "          'max_depth': [3,5,7],}"
   ]
  },
  {
   "cell_type": "code",
   "execution_count": 73,
   "metadata": {
    "ExecuteTime": {
     "end_time": "2018-07-21T16:54:35.672451Z",
     "start_time": "2018-07-21T16:54:35.667447Z"
    },
    "collapsed": true
   },
   "outputs": [],
   "source": [
    "gsgbr = GridSearchCV(estimator=gbr, param_grid=params, \n",
    "                   n_jobs=-1, cv=3, scoring=\"mean_squared_error\", \n",
    "                   verbose=1)"
   ]
  },
  {
   "cell_type": "code",
   "execution_count": 74,
   "metadata": {
    "ExecuteTime": {
     "end_time": "2018-07-21T16:56:50.329236Z",
     "start_time": "2018-07-21T16:54:36.101347Z"
    }
   },
   "outputs": [
    {
     "name": "stdout",
     "output_type": "stream",
     "text": [
      "Fitting 3 folds for each of 108 candidates, totalling 324 fits\n"
     ]
    },
    {
     "name": "stderr",
     "output_type": "stream",
     "text": [
      "[Parallel(n_jobs=-1)]: Done  42 tasks      | elapsed:    7.0s\n",
      "[Parallel(n_jobs=-1)]: Done 192 tasks      | elapsed:   29.3s\n",
      "[Parallel(n_jobs=-1)]: Done 324 out of 324 | elapsed:  2.2min finished\n"
     ]
    },
    {
     "data": {
      "text/plain": [
       "GridSearchCV(cv=3, error_score='raise',\n",
       "       estimator=GradientBoostingRegressor(alpha=0.9, criterion='mse', init=None,\n",
       "             learning_rate=0.1, loss='ls', max_depth=3, max_features=None,\n",
       "             max_leaf_nodes=None, min_impurity_decrease=0.0,\n",
       "             min_impurity_split=None, min_samples_leaf=1,\n",
       "             min_samples_split=2, min_weight_fraction_leaf=0.0,\n",
       "             n_estimators=100, presort='auto', random_state=101,\n",
       "             subsample=1.0, verbose=0, warm_start=False),\n",
       "       fit_params=None, iid=True, n_jobs=-1,\n",
       "       param_grid={'loss': ['ls', 'huber'], 'n_estimators': [100, 500], 'min_samples_split': [2, 4, 6], 'max_features': [0.7, 0.9, 1], 'max_depth': [3, 5, 7]},\n",
       "       pre_dispatch='2*n_jobs', refit=True, return_train_score='warn',\n",
       "       scoring='mean_squared_error', verbose=1)"
      ]
     },
     "execution_count": 74,
     "metadata": {},
     "output_type": "execute_result"
    }
   ],
   "source": [
    "gsgbr.fit(X_train, y_train)"
   ]
  },
  {
   "cell_type": "code",
   "execution_count": 75,
   "metadata": {
    "ExecuteTime": {
     "end_time": "2018-07-21T16:56:50.349250Z",
     "start_time": "2018-07-21T16:56:50.334240Z"
    }
   },
   "outputs": [
    {
     "name": "stdout",
     "output_type": "stream",
     "text": [
      "0.136469031938\n"
     ]
    }
   ],
   "source": [
    "y_pred_gsgbr = gsgbr.predict(X_test)\n",
    "print(np.sqrt(mean_squared_error(y_test, y_pred_gsgbr)))"
   ]
  },
  {
   "cell_type": "markdown",
   "metadata": {},
   "source": [
    "## BaggingRegressor"
   ]
  },
  {
   "cell_type": "code",
   "execution_count": 82,
   "metadata": {
    "ExecuteTime": {
     "end_time": "2018-07-21T17:00:36.278900Z",
     "start_time": "2018-07-21T17:00:36.273898Z"
    },
    "collapsed": true
   },
   "outputs": [],
   "source": [
    "br = BaggingRegressor(random_state=rs, n_jobs=-1)"
   ]
  },
  {
   "cell_type": "code",
   "execution_count": 83,
   "metadata": {
    "ExecuteTime": {
     "end_time": "2018-07-21T17:00:38.236021Z",
     "start_time": "2018-07-21T17:00:36.682576Z"
    }
   },
   "outputs": [
    {
     "data": {
      "text/plain": [
       "BaggingRegressor(base_estimator=None, bootstrap=True,\n",
       "         bootstrap_features=False, max_features=1.0, max_samples=1.0,\n",
       "         n_estimators=10, n_jobs=-1, oob_score=False, random_state=101,\n",
       "         verbose=0, warm_start=False)"
      ]
     },
     "execution_count": 83,
     "metadata": {},
     "output_type": "execute_result"
    }
   ],
   "source": [
    "br.fit(X_train, y_train)"
   ]
  },
  {
   "cell_type": "code",
   "execution_count": 84,
   "metadata": {
    "ExecuteTime": {
     "end_time": "2018-07-21T17:00:39.800144Z",
     "start_time": "2018-07-21T17:00:38.239024Z"
    }
   },
   "outputs": [
    {
     "name": "stdout",
     "output_type": "stream",
     "text": [
      "0.140381789061\n"
     ]
    }
   ],
   "source": [
    "y_pred_br = br.predict(X_test)\n",
    "print(np.sqrt(mean_squared_error(y_test, y_pred_br)))"
   ]
  },
  {
   "cell_type": "markdown",
   "metadata": {},
   "source": [
    "### GridSearch for BR"
   ]
  },
  {
   "cell_type": "code",
   "execution_count": 87,
   "metadata": {
    "ExecuteTime": {
     "end_time": "2018-07-21T17:02:30.744453Z",
     "start_time": "2018-07-21T17:02:30.738447Z"
    }
   },
   "outputs": [],
   "source": [
    "params = {'max_samples': [0.7,0.9,1],\n",
    "          'n_estimators': [100,200,500],\n",
    "          'max_features': [0.7,0.9,1],\n",
    "          'bootstrap_features': [True, False],\n",
    "          'bootstrap':[True, False]}"
   ]
  },
  {
   "cell_type": "code",
   "execution_count": 88,
   "metadata": {
    "ExecuteTime": {
     "end_time": "2018-07-21T17:02:57.071667Z",
     "start_time": "2018-07-21T17:02:57.067664Z"
    }
   },
   "outputs": [],
   "source": [
    "gsbr = GridSearchCV(estimator=br, param_grid=params, \n",
    "                   n_jobs=-1, cv=3, scoring=\"mean_squared_error\", \n",
    "                   verbose=1)"
   ]
  },
  {
   "cell_type": "code",
   "execution_count": 89,
   "metadata": {
    "ExecuteTime": {
     "end_time": "2018-07-21T17:04:45.459976Z",
     "start_time": "2018-07-21T17:03:10.665071Z"
    }
   },
   "outputs": [
    {
     "name": "stdout",
     "output_type": "stream",
     "text": [
      "Fitting 3 folds for each of 108 candidates, totalling 324 fits\n"
     ]
    },
    {
     "name": "stderr",
     "output_type": "stream",
     "text": [
      "[Parallel(n_jobs=-1)]: Done  42 tasks      | elapsed:   15.1s\n",
      "[Parallel(n_jobs=-1)]: Done 192 tasks      | elapsed:   53.6s\n",
      "[Parallel(n_jobs=-1)]: Done 324 out of 324 | elapsed:  1.5min finished\n"
     ]
    },
    {
     "data": {
      "text/plain": [
       "GridSearchCV(cv=3, error_score='raise',\n",
       "       estimator=BaggingRegressor(base_estimator=None, bootstrap=True,\n",
       "         bootstrap_features=False, max_features=1.0, max_samples=1.0,\n",
       "         n_estimators=10, n_jobs=-1, oob_score=False, random_state=101,\n",
       "         verbose=0, warm_start=False),\n",
       "       fit_params=None, iid=True, n_jobs=-1,\n",
       "       param_grid={'max_samples': [0.7, 0.9, 1], 'n_estimators': [100, 200, 500], 'max_features': [0.7, 0.9, 1], 'bootstrap_features': [True, False], 'bootstrap': [True, False]},\n",
       "       pre_dispatch='2*n_jobs', refit=True, return_train_score='warn',\n",
       "       scoring='mean_squared_error', verbose=1)"
      ]
     },
     "execution_count": 89,
     "metadata": {},
     "output_type": "execute_result"
    }
   ],
   "source": [
    "gsbr.fit(X_train, y_train)"
   ]
  },
  {
   "cell_type": "code",
   "execution_count": 90,
   "metadata": {
    "ExecuteTime": {
     "end_time": "2018-07-21T17:05:34.746760Z",
     "start_time": "2018-07-21T17:05:33.216295Z"
    }
   },
   "outputs": [
    {
     "name": "stdout",
     "output_type": "stream",
     "text": [
      "0.195791888632\n"
     ]
    }
   ],
   "source": [
    "y_pred_gsbr = gsbr.predict(X_test)\n",
    "print(np.sqrt(mean_squared_error(y_test, y_pred_gsbr)))"
   ]
  },
  {
   "cell_type": "markdown",
   "metadata": {},
   "source": [
    "# Uploading to Kaggle"
   ]
  },
  {
   "cell_type": "code",
   "execution_count": 92,
   "metadata": {
    "ExecuteTime": {
     "end_time": "2018-07-21T17:06:45.810354Z",
     "start_time": "2018-07-21T17:06:45.805351Z"
    }
   },
   "outputs": [],
   "source": [
    "test.drop('id',axis=1,inplace=True)"
   ]
  },
  {
   "cell_type": "code",
   "execution_count": null,
   "metadata": {
    "collapsed": true
   },
   "outputs": [],
   "source": []
  },
  {
   "cell_type": "code",
   "execution_count": 93,
   "metadata": {
    "ExecuteTime": {
     "end_time": "2018-07-21T17:07:05.298562Z",
     "start_time": "2018-07-21T17:07:05.192487Z"
    },
    "collapsed": true
   },
   "outputs": [],
   "source": [
    "preds = clf.predict(test)"
   ]
  },
  {
   "cell_type": "code",
   "execution_count": 94,
   "metadata": {
    "ExecuteTime": {
     "end_time": "2018-07-21T17:07:35.124031Z",
     "start_time": "2018-07-21T17:07:35.120028Z"
    },
    "collapsed": true
   },
   "outputs": [],
   "source": [
    "df = pd.DataFrame()"
   ]
  },
  {
   "cell_type": "code",
   "execution_count": 95,
   "metadata": {
    "ExecuteTime": {
     "end_time": "2018-07-21T17:07:54.925883Z",
     "start_time": "2018-07-21T17:07:54.920896Z"
    },
    "collapsed": true
   },
   "outputs": [],
   "source": [
    "t = pd.read_csv('test (1).csv')"
   ]
  },
  {
   "cell_type": "code",
   "execution_count": 96,
   "metadata": {
    "ExecuteTime": {
     "end_time": "2018-07-21T17:08:05.293091Z",
     "start_time": "2018-07-21T17:08:05.289092Z"
    },
    "collapsed": true
   },
   "outputs": [],
   "source": [
    "df['id'] = t.id"
   ]
  },
  {
   "cell_type": "code",
   "execution_count": 97,
   "metadata": {
    "ExecuteTime": {
     "end_time": "2018-07-21T17:08:13.987659Z",
     "start_time": "2018-07-21T17:08:13.983656Z"
    },
    "collapsed": true
   },
   "outputs": [],
   "source": [
    "df['radius'] = preds"
   ]
  },
  {
   "cell_type": "code",
   "execution_count": 98,
   "metadata": {
    "ExecuteTime": {
     "end_time": "2018-07-21T17:08:18.123103Z",
     "start_time": "2018-07-21T17:08:18.114095Z"
    }
   },
   "outputs": [
    {
     "data": {
      "text/html": [
       "<div>\n",
       "<style>\n",
       "    .dataframe thead tr:only-child th {\n",
       "        text-align: right;\n",
       "    }\n",
       "\n",
       "    .dataframe thead th {\n",
       "        text-align: left;\n",
       "    }\n",
       "\n",
       "    .dataframe tbody tr th {\n",
       "        vertical-align: top;\n",
       "    }\n",
       "</style>\n",
       "<table border=\"1\" class=\"dataframe\">\n",
       "  <thead>\n",
       "    <tr style=\"text-align: right;\">\n",
       "      <th></th>\n",
       "      <th>id</th>\n",
       "      <th>radius</th>\n",
       "    </tr>\n",
       "  </thead>\n",
       "  <tbody>\n",
       "    <tr>\n",
       "      <th>0</th>\n",
       "      <td>4365</td>\n",
       "      <td>0.272747</td>\n",
       "    </tr>\n",
       "    <tr>\n",
       "      <th>1</th>\n",
       "      <td>1129</td>\n",
       "      <td>0.680009</td>\n",
       "    </tr>\n",
       "    <tr>\n",
       "      <th>2</th>\n",
       "      <td>2602</td>\n",
       "      <td>0.278276</td>\n",
       "    </tr>\n",
       "    <tr>\n",
       "      <th>3</th>\n",
       "      <td>1747</td>\n",
       "      <td>0.690410</td>\n",
       "    </tr>\n",
       "    <tr>\n",
       "      <th>4</th>\n",
       "      <td>3286</td>\n",
       "      <td>0.291265</td>\n",
       "    </tr>\n",
       "  </tbody>\n",
       "</table>\n",
       "</div>"
      ],
      "text/plain": [
       "     id    radius\n",
       "0  4365  0.272747\n",
       "1  1129  0.680009\n",
       "2  2602  0.278276\n",
       "3  1747  0.690410\n",
       "4  3286  0.291265"
      ]
     },
     "execution_count": 98,
     "metadata": {},
     "output_type": "execute_result"
    }
   ],
   "source": [
    "df.head()"
   ]
  },
  {
   "cell_type": "code",
   "execution_count": 100,
   "metadata": {
    "ExecuteTime": {
     "end_time": "2018-07-21T17:09:53.376628Z",
     "start_time": "2018-07-21T17:09:53.368622Z"
    },
    "collapsed": true
   },
   "outputs": [],
   "source": [
    "df.to_csv('SecondTry.csv', index=False)"
   ]
  },
  {
   "cell_type": "code",
   "execution_count": null,
   "metadata": {
    "collapsed": true
   },
   "outputs": [],
   "source": []
  }
 ],
 "metadata": {
  "hide_input": false,
  "kernelspec": {
   "display_name": "Python 3",
   "language": "python",
   "name": "python3"
  },
  "language_info": {
   "codemirror_mode": {
    "name": "ipython",
    "version": 3
   },
   "file_extension": ".py",
   "mimetype": "text/x-python",
   "name": "python",
   "nbconvert_exporter": "python",
   "pygments_lexer": "ipython3",
   "version": "3.6.1"
  },
  "latex_envs": {
   "LaTeX_envs_menu_present": true,
   "autoclose": false,
   "autocomplete": true,
   "bibliofile": "biblio.bib",
   "cite_by": "apalike",
   "current_citInitial": 1,
   "eqLabelWithNumbers": true,
   "eqNumInitial": 1,
   "hotkeys": {
    "equation": "Ctrl-E",
    "itemize": "Ctrl-I"
   },
   "labels_anchors": false,
   "latex_user_defs": false,
   "report_style_numbering": false,
   "user_envs_cfg": false
  },
  "toc": {
   "base_numbering": 1,
   "nav_menu": {},
   "number_sections": true,
   "sideBar": true,
   "skip_h1_title": false,
   "title_cell": "Table of Contents",
   "title_sidebar": "Contents",
   "toc_cell": false,
   "toc_position": {},
   "toc_section_display": true,
   "toc_window_display": false
  }
 },
 "nbformat": 4,
 "nbformat_minor": 2
}
